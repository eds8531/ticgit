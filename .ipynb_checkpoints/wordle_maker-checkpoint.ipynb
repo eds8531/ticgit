{
 "cells": [
  {
   "cell_type": "code",
   "execution_count": 90,
   "metadata": {},
   "outputs": [],
   "source": [
    "import shelve\n",
    "import random\n",
    "import pandas as pd\n",
    "\n",
    "shelfFile = shelve.open('/Users/ericschlosser/Desktop/TheHardWay/Wordle/five_words')\n",
    "five_words = shelfFile['five_words']"
   ]
  },
  {
   "cell_type": "code",
   "execution_count": 66,
   "metadata": {},
   "outputs": [
    {
     "data": {
      "text/plain": [
       "0"
      ]
     },
     "execution_count": 66,
     "metadata": {},
     "output_type": "execute_result"
    }
   ],
   "source": [
    "#five_words = [word for word in five_words if word[1] == 'r']\n",
    "#five_words = [word for word in five_words if word[2] == 'e']\n",
    "#five_words = [word for word in five_words if word[3] == 'r']\n",
    "five_words = [word for word in five_words if word[3] == 'c']\n",
    "len(five_words)"
   ]
  },
  {
   "cell_type": "code",
   "execution_count": 7,
   "metadata": {},
   "outputs": [
    {
     "data": {
      "text/plain": [
       "4"
      ]
     },
     "execution_count": 7,
     "metadata": {},
     "output_type": "execute_result"
    }
   ],
   "source": [
    "five_words = [word for word in five_words if word[1] != 'r']\n",
    "#five_words = [word for word in five_words if word[1] != 't']\n",
    "five_words = [word for word in five_words if word[3] != 'e']\n",
    "#five_words = [word for word in five_words if word[3] != 'e']\n",
    "#five_words = [word for word in five_words if word[1] != 'r']\n",
    "#five_words = [word for word in five_words if word[2] != 'r']\n",
    "len(five_words)"
   ]
  },
  {
   "cell_type": "code",
   "execution_count": 91,
   "metadata": {},
   "outputs": [
    {
     "data": {
      "text/plain": [
       "20"
      ]
     },
     "execution_count": 91,
     "metadata": {},
     "output_type": "execute_result"
    }
   ],
   "source": [
    "grey = 'asbingochurl'\n",
    "\n",
    "grey = list(grey)\n",
    "\n",
    "for i in grey:\n",
    "    five_words = [word for word in five_words if i not in word]\n",
    "len(five_words)"
   ]
  },
  {
   "cell_type": "code",
   "execution_count": 51,
   "metadata": {},
   "outputs": [
    {
     "data": {
      "text/plain": [
       "5"
      ]
     },
     "execution_count": 51,
     "metadata": {},
     "output_type": "execute_result"
    }
   ],
   "source": [
    "yellow = 'rot'\n",
    "\n",
    "yellow = list(yellow)\n",
    "\n",
    "for i in yellow:\n",
    "    five_words = [word for word in five_words if i in word]\n",
    "len(five_words)"
   ]
  },
  {
   "cell_type": "code",
   "execution_count": 92,
   "metadata": {},
   "outputs": [
    {
     "data": {
      "text/plain": [
       "['dewed',\n",
       " 'empty',\n",
       " 'femme',\n",
       " 'feted',\n",
       " 'jetty',\n",
       " 'keyed',\n",
       " 'meted',\n",
       " 'mewed',\n",
       " 'peeve',\n",
       " 'peppy',\n",
       " 'petty',\n",
       " 'pewee',\n",
       " 'teddy',\n",
       " 'tempt',\n",
       " 'tepee',\n",
       " 'tweed',\n",
       " 'typed',\n",
       " 'vexed',\n",
       " 'weedy',\n",
       " 'weepy']"
      ]
     },
     "execution_count": 92,
     "metadata": {},
     "output_type": "execute_result"
    }
   ],
   "source": [
    "five_words"
   ]
  },
  {
   "cell_type": "code",
   "execution_count": 38,
   "metadata": {},
   "outputs": [],
   "source": [
    "grey = ''\n",
    "\n",
    "grey = list(dead)\n",
    "\n",
    "for i in dead:\n",
    "    five_words = [word for word in five_words if i not in word]\n"
   ]
  },
  {
   "cell_type": "code",
   "execution_count": 39,
   "metadata": {},
   "outputs": [],
   "source": [
    "live = ['r','e','s','t']\n",
    "\n",
    "for i in live:\n",
    "    five_words = [word for word in five_words if i in word]\n"
   ]
  },
  {
   "cell_type": "code",
   "execution_count": 75,
   "metadata": {},
   "outputs": [
    {
     "data": {
      "text/plain": [
       "['jazzy', 'kappa', 'kayak', 'mammy', 'papaw']"
      ]
     },
     "execution_count": 75,
     "metadata": {},
     "output_type": "execute_result"
    }
   ],
   "source": [
    "five_words\n"
   ]
  },
  {
   "cell_type": "code",
   "execution_count": null,
   "metadata": {},
   "outputs": [],
   "source": []
  }
 ],
 "metadata": {
  "kernelspec": {
   "display_name": "Python 3",
   "language": "python",
   "name": "python3"
  },
  "language_info": {
   "codemirror_mode": {
    "name": "ipython",
    "version": 3
   },
   "file_extension": ".py",
   "mimetype": "text/x-python",
   "name": "python",
   "nbconvert_exporter": "python",
   "pygments_lexer": "ipython3",
   "version": "3.7.6"
  }
 },
 "nbformat": 4,
 "nbformat_minor": 4
}
