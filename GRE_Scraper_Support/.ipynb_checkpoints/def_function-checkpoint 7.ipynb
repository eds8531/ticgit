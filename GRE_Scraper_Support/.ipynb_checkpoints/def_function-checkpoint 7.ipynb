{
 "cells": [
  {
   "cell_type": "code",
   "execution_count": 11,
   "metadata": {},
   "outputs": [],
   "source": [
    "import requests\n",
    "from bs4 import BeautifulSoup as bs\n",
    "import pandas as pd"
   ]
  },
  {
   "cell_type": "code",
   "execution_count": 12,
   "metadata": {},
   "outputs": [],
   "source": [
    "url = 'https://www.merriam-webster.com/dictionary/'\n",
    "word = 'disinterested'\n",
    "\n",
    "results = requests.get(url + word)\n",
    "src = results.content\n",
    "soup = bs(src, 'lxml')"
   ]
  },
  {
   "cell_type": "code",
   "execution_count": 13,
   "metadata": {},
   "outputs": [],
   "source": [
    "text = soup.find_all(class_= ['num', 'letter', 'dtText', 'sdsense', 'important-blue-link'])\n",
    "df_tdlist = pd.DataFrame(columns = ['Words', 'Definitions'])\n",
    "#df_tdlist['Words'] = ['space']\n",
    "#df_tdlist['Definitions'] = ['space']\n",
    "word_list = ['ape', 'blithe', 'turncoat']"
   ]
  },
  {
   "cell_type": "code",
   "execution_count": 16,
   "metadata": {},
   "outputs": [],
   "source": [
    "def definitions(word_list):\n",
    "    url = 'https://www.merriam-webster.com/dictionary/'\n",
    "    \n",
    "    num = ''\n",
    "    let = ''\n",
    "    \n",
    "    numletprev = ''\n",
    "    \n",
    "    for word in word_list:\n",
    "        def_list = []\n",
    "        pos_list = []\n",
    "        results = requests.get(url + word)\n",
    "        src = results.content\n",
    "        soup = bs(src, 'lxml')\n",
    "        text = soup.find_all(class_= ['num', 'letter', 'dtText', 'sdsense', 'important-blue-link'])\n",
    "        \n",
    "        for tag in text:\n",
    "            if tag.text.strip() in '1234567890':\n",
    "                num = tag.text.strip()\n",
    "            elif tag.text.strip() in 'abcdefghij':\n",
    "                let = tag.text.strip() \n",
    "            elif tag.text.strip() in ['noun', 'verb', 'adverb', 'adjective']:\n",
    "                pos = tag.text.strip()\n",
    "                if pos in pos_list:\n",
    "                    break\n",
    "                pos_list.append(pos)\n",
    "            else:\n",
    "                if num+let == numletprev:\n",
    "                    num = ''\n",
    "                    let = '  '\n",
    "                defi = tag.text.strip()\n",
    "                if defi[:10] == 'especially':\n",
    "                    print(defi)\n",
    "                    def_list.append(str(pos)+ ': ' + defi[2:])\n",
    "                    numletprev = num+let\n",
    "                    \n",
    "                if defi[:12] == 'specifically':\n",
    "                    print(defi)\n",
    "                    def_list.append(str(pos)+ ': ' + defi[2:])\n",
    "                    numletprev = num+let\n",
    "                \n",
    "                else:\n",
    "                    def_list.append(str(pos)+ ': ' + defi[2:])\n",
    "                    #esp = defi.split('\\n')\n",
    "                    #def_list[-1] = def_list[-1] + ' ' + esp[0] +esp[1][1:] \n",
    "                    \n",
    "        df_word = pd.DataFrame(columns = ['Words', 'Definitions'])\n",
    "        df_word['Definitions'] = def_list\n",
    "        df_word['Words'] = [word]*len(def_list)\n",
    "        try:\n",
    "            #print(df_word)\n",
    "            df_tdlist = pd.concat([df_tdlist, df_word], axis = 0, ignore_index = True)\n",
    "        except:\n",
    "            df_tdlist = df_word\n",
    "    print(df_tdlist)\n",
    "    \n",
    "   "
   ]
  },
  {
   "cell_type": "code",
   "execution_count": 17,
   "metadata": {},
   "outputs": [
    {
     "name": "stdout",
     "output_type": "stream",
     "text": [
      "especially\n",
      ": one of the larger tailless or short-tailed Old World forms \n",
      "\n",
      "—not used technically\n",
      "specifically\n",
      ": traitor\n",
      "       Words                                        Definitions\n",
      "0        ape  noun: any of various large tailless semi-erect...\n",
      "1        ape                                       noun: monkey\n",
      "2        ape  noun: pecially\\n: one of the larger tailless o...\n",
      "3        ape  noun: pecially\\n: one of the larger tailless o...\n",
      "4        ape  noun: one of the larger tailless or short-tail...\n",
      "5        ape                                        noun: mimic\n",
      "6        ape                       noun: a large uncouth person\n",
      "7        ape                                verb: ansitive verb\n",
      "8        ape  verb: to copy closely but often clumsily and i...\n",
      "9        ape                             adjective: crazy, wild\n",
      "10    blithe  adjective: lacking due thought or consideratio...\n",
      "11    blithe  adjective: of a happy lighthearted character o...\n",
      "12  turncoat  noun: one who switches to an opposing side or ...\n",
      "13  turncoat                        noun: ecifically\\n: traitor\n",
      "14  turncoat                                      noun: traitor\n"
     ]
    }
   ],
   "source": [
    "definitions(word_list)"
   ]
  },
  {
   "cell_type": "markdown",
   "metadata": {},
   "source": [
    "Dealing with 'sepcifically' in definitions"
   ]
  },
  {
   "cell_type": "code",
   "execution_count": 55,
   "metadata": {},
   "outputs": [
    {
     "name": "stdout",
     "output_type": "stream",
     "text": [
      "['noun: one who switches to an opposing side or party specifically: traitor', 'noun: traitor']\n"
     ]
    }
   ],
   "source": [
    "url = 'https://www.merriam-webster.com/dictionary/'\n",
    "word = 'turncoat'\n",
    "results = requests.get(url + word)\n",
    "src = results.content\n",
    "soup = bs(src, 'lxml')\n",
    "text = soup.find_all(class_= ['num', 'letter', 'dtText', 'sdsense', 'important-blue-link'])\n",
    "\n",
    "pos_list = []\n",
    "def_list = []\n",
    "num = ''\n",
    "let = ''\n",
    "numletprev = ''\n",
    "\n",
    "for tag in text:\n",
    "    if tag.text.strip() in '1234567890':\n",
    "        num = tag.text.strip()\n",
    "    elif tag.text.strip() in 'abcdefghij':\n",
    "        let = tag.text.strip() \n",
    "    elif tag.text.strip() in ['noun', 'verb', 'adverb', 'adjective']:\n",
    "        pos = tag.text.strip()\n",
    "        if pos in pos_list:\n",
    "            break\n",
    "        pos_list.append(pos)\n",
    "    else:\n",
    "        if num+let == numletprev:\n",
    "            num = ''\n",
    "            let = '  '\n",
    "        defi = tag.text.strip()\n",
    "        if defi[:10] == 'especially':\n",
    "            esp = defi.split('\\n')\n",
    "            def_list[-1] = def_list[-1] + ' ' + esp[0]+ ':' +esp[1][1:]\n",
    "        if defi[:12] == 'specifically':\n",
    "            esp = defi.split('\\n')\n",
    "            def_list[-1] = def_list[-1] + ' ' + esp[0]+ \":\" +esp[1][1:]\n",
    "\n",
    "        else:\n",
    "            def_list.append(str(pos)+ ': ' + defi[2:])\n",
    "            numletprev = num+let\n",
    "            \n",
    "            \n",
    "            \n",
    "             \n",
    "print(def_list)"
   ]
  },
  {
   "cell_type": "code",
   "execution_count": 50,
   "metadata": {},
   "outputs": [
    {
     "name": "stdout",
     "output_type": "stream",
     "text": [
      "['1a', '', ': any of various large tailless semi-erect primates of Africa and southeastern Asia (such as the chimpanzee, gorilla, orangutan, or gibbon)', '— called also', 'anthropoid,  anthropoid ape ', ' — compare great ape']\n",
      "['2a', '', ': mimic']\n",
      "[': to copy closely but often clumsily and ineptly']\n",
      "[': crazy, wild', '', '—usually used in the phrase go ape']\n",
      "[': any of a group of tailless animals (as gorillas or chimpanzees) that are primates most closely related to humans']\n",
      "[': to imitate (someone) awkwardly', 'He apes the styles of his favorite actor.']\n",
      "['1', '', ': monkey', '', '', 'especially', ': one of the larger tailless or short-tailed Old World forms']\n",
      "['2', '', ': any of the large tailless semierect primates of Africa and southeastern Asia (as the chimpanzee, gorilla, orangutan, or gibbon)', '— called also', 'anthropoid,  anthropoid ape']\n"
     ]
    }
   ],
   "source": [
    "url = 'https://www.merriam-webster.com/dictionary/'\n",
    "word = 'ape'\n",
    "results = requests.get(url + word)\n",
    "src = results.content\n",
    "soup = bs(src, 'lxml')\n",
    "text = soup.find_all(class_= ['sb-0', 'important-blue-link'])\n",
    "\n",
    "pos_list = []\n",
    "def_list = []\n",
    "num = ''\n",
    "let = ''\n",
    "numletprev = ''\n",
    "\n",
    "for tag in text:\n",
    "    if tag.text.strip() in ['noun', 'verb', 'adjective', 'adverb', 'pronoun']:\n",
    "        pos = tag.text.strip()\n",
    "    elif tag.text.strip() in ['transitive verb']:\n",
    "        pass\n",
    "    else:\n",
    "        def_list.append(tag.text.strip())\n",
    "            \n",
    "for part in def_list:        \n",
    "    print(part.split('\\n'))       \n"
   ]
  },
  {
   "cell_type": "code",
   "execution_count": 64,
   "metadata": {},
   "outputs": [],
   "source": [
    "def definitions(word_list):\n",
    "    url = 'https://www.merriam-webster.com/dictionary/'\n",
    "    \n",
    "    num = ''\n",
    "    let = ''\n",
    "    \n",
    "    numletprev = ''\n",
    "    \n",
    "    for word in word_list:\n",
    "        def_list = []\n",
    "        pos_list = []\n",
    "        results = requests.get(url + word)\n",
    "        src = results.content\n",
    "        soup = bs(src, 'lxml')\n",
    "        text = soup.find_all(class_= ['num', 'letter', 'dtText', 'sdsense', 'important-blue-link'])\n",
    "        \n",
    "        for tag in text:\n",
    "            if tag.text.strip() in '1234567890':\n",
    "                num = tag.text.strip()\n",
    "            elif tag.text.strip() in 'abcdefghij':\n",
    "                let = tag.text.strip() \n",
    "            elif tag.text.strip() in ['noun', 'verb', 'adverb', 'adjective']:\n",
    "                pos = tag.text.strip()\n",
    "                if pos in pos_list:\n",
    "                    break\n",
    "                pos_list.append(pos)\n",
    "            else:\n",
    "                if num+let == numletprev:\n",
    "                    num = ''\n",
    "                    let = '  '\n",
    "                defi = tag.text.strip()\n",
    "                if defi[:10] == 'especially':\n",
    "                    esp = defi.split('\\n')\n",
    "                    print(esp)\n",
    "                    def_list[-1] = def_list[-1] + ' ' + esp[0]+ ':' +esp[1][1:]\n",
    "                elif defi[:12] == 'specifically':\n",
    "                    esp = defi.split('\\n')\n",
    "                    print(esp)\n",
    "                    def_list[-1] = def_list[-1] + ' ' + esp[0]+ \":\" +esp[1][1:]\n",
    "\n",
    "                else:\n",
    "                    def_list.append(str(pos)+ ': ' + defi[2:])\n",
    "                    numletprev = num+let\n",
    "                    \n",
    "        df_word = pd.DataFrame(columns = ['Words', 'Definitions'])\n",
    "        df_word['Definitions'] = def_list\n",
    "        df_word['Words'] = [word]*len(def_list)\n",
    "        try:\n",
    "            #print(df_word)\n",
    "            df_tdlist = pd.concat([df_tdlist, df_word], axis = 0, ignore_index = True)\n",
    "        except:\n",
    "            df_tdlist = df_word\n",
    "    print(df_tdlist)\n",
    "    return df_tdlist.iat[11,1]\n",
    "    "
   ]
  },
  {
   "cell_type": "code",
   "execution_count": 65,
   "metadata": {},
   "outputs": [
    {
     "name": "stdout",
     "output_type": "stream",
     "text": [
      "['especially', ': one of the larger tailless or short-tailed Old World forms ', '', '—not used technically']\n",
      "['specifically', ': traitor']\n",
      "       Words                                        Definitions\n",
      "0        ape  noun: any of various large tailless semi-erect...\n",
      "1        ape  noun: monkey especially: one of the larger tai...\n",
      "2        ape  noun: one of the larger tailless or short-tail...\n",
      "3        ape                                        noun: mimic\n",
      "4        ape                       noun: a large uncouth person\n",
      "5        ape                                verb: ansitive verb\n",
      "6        ape  verb: to copy closely but often clumsily and i...\n",
      "7        ape                             adjective: crazy, wild\n",
      "8     blithe  adjective: lacking due thought or consideratio...\n",
      "9     blithe  adjective: of a happy lighthearted character o...\n",
      "10  turncoat  noun: one who switches to an opposing side or ...\n",
      "11  turncoat                                      noun: traitor\n"
     ]
    },
    {
     "data": {
      "text/plain": [
       "'noun: traitor'"
      ]
     },
     "execution_count": 65,
     "metadata": {},
     "output_type": "execute_result"
    }
   ],
   "source": [
    "definitions(word_list)"
   ]
  },
  {
   "cell_type": "code",
   "execution_count": 61,
   "metadata": {},
   "outputs": [
    {
     "ename": "IndexError",
     "evalue": "index 11 is out of bounds for axis 0 with size 0",
     "output_type": "error",
     "traceback": [
      "\u001b[0;31m---------------------------------------------------------------------------\u001b[0m",
      "\u001b[0;31mIndexError\u001b[0m                                Traceback (most recent call last)",
      "Input \u001b[0;32mIn [61]\u001b[0m, in \u001b[0;36m<cell line: 1>\u001b[0;34m()\u001b[0m\n\u001b[0;32m----> 1\u001b[0m \u001b[43mdf_tdlist\u001b[49m\u001b[38;5;241;43m.\u001b[39;49m\u001b[43miat\u001b[49m\u001b[43m[\u001b[49m\u001b[38;5;241;43m11\u001b[39;49m\u001b[43m,\u001b[49m\u001b[38;5;241;43m1\u001b[39;49m\u001b[43m]\u001b[49m\n",
      "File \u001b[0;32m~/opt/anaconda3/lib/python3.9/site-packages/pandas/core/indexing.py:2100\u001b[0m, in \u001b[0;36m_ScalarAccessIndexer.__getitem__\u001b[0;34m(self, key)\u001b[0m\n\u001b[1;32m   2097\u001b[0m         \u001b[38;5;28;01mraise\u001b[39;00m \u001b[38;5;167;01mValueError\u001b[39;00m(\u001b[38;5;124m\"\u001b[39m\u001b[38;5;124mInvalid call for scalar access (getting)!\u001b[39m\u001b[38;5;124m\"\u001b[39m)\n\u001b[1;32m   2099\u001b[0m key \u001b[38;5;241m=\u001b[39m \u001b[38;5;28mself\u001b[39m\u001b[38;5;241m.\u001b[39m_convert_key(key)\n\u001b[0;32m-> 2100\u001b[0m \u001b[38;5;28;01mreturn\u001b[39;00m \u001b[38;5;28;43mself\u001b[39;49m\u001b[38;5;241;43m.\u001b[39;49m\u001b[43mobj\u001b[49m\u001b[38;5;241;43m.\u001b[39;49m\u001b[43m_get_value\u001b[49m\u001b[43m(\u001b[49m\u001b[38;5;241;43m*\u001b[39;49m\u001b[43mkey\u001b[49m\u001b[43m,\u001b[49m\u001b[43m \u001b[49m\u001b[43mtakeable\u001b[49m\u001b[38;5;241;43m=\u001b[39;49m\u001b[38;5;28;43mself\u001b[39;49m\u001b[38;5;241;43m.\u001b[39;49m\u001b[43m_takeable\u001b[49m\u001b[43m)\u001b[49m\n",
      "File \u001b[0;32m~/opt/anaconda3/lib/python3.9/site-packages/pandas/core/frame.py:3127\u001b[0m, in \u001b[0;36mDataFrame._get_value\u001b[0;34m(self, index, col, takeable)\u001b[0m\n\u001b[1;32m   3125\u001b[0m \u001b[38;5;28;01mif\u001b[39;00m takeable:\n\u001b[1;32m   3126\u001b[0m     series \u001b[38;5;241m=\u001b[39m \u001b[38;5;28mself\u001b[39m\u001b[38;5;241m.\u001b[39m_ixs(col, axis\u001b[38;5;241m=\u001b[39m\u001b[38;5;241m1\u001b[39m)\n\u001b[0;32m-> 3127\u001b[0m     \u001b[38;5;28;01mreturn\u001b[39;00m \u001b[43mseries\u001b[49m\u001b[38;5;241;43m.\u001b[39;49m\u001b[43m_values\u001b[49m\u001b[43m[\u001b[49m\u001b[43mindex\u001b[49m\u001b[43m]\u001b[49m\n\u001b[1;32m   3129\u001b[0m series \u001b[38;5;241m=\u001b[39m \u001b[38;5;28mself\u001b[39m\u001b[38;5;241m.\u001b[39m_get_item_cache(col)\n\u001b[1;32m   3130\u001b[0m engine \u001b[38;5;241m=\u001b[39m \u001b[38;5;28mself\u001b[39m\u001b[38;5;241m.\u001b[39mindex\u001b[38;5;241m.\u001b[39m_engine\n",
      "\u001b[0;31mIndexError\u001b[0m: index 11 is out of bounds for axis 0 with size 0"
     ]
    }
   ],
   "source": [
    "df_tdlist.iat[11,1]"
   ]
  },
  {
   "cell_type": "code",
   "execution_count": 7,
   "metadata": {},
   "outputs": [
    {
     "data": {
      "text/html": [
       "<div>\n",
       "<style scoped>\n",
       "    .dataframe tbody tr th:only-of-type {\n",
       "        vertical-align: middle;\n",
       "    }\n",
       "\n",
       "    .dataframe tbody tr th {\n",
       "        vertical-align: top;\n",
       "    }\n",
       "\n",
       "    .dataframe thead th {\n",
       "        text-align: right;\n",
       "    }\n",
       "</style>\n",
       "<table border=\"1\" class=\"dataframe\">\n",
       "  <thead>\n",
       "    <tr style=\"text-align: right;\">\n",
       "      <th></th>\n",
       "      <th>Sentence #</th>\n",
       "      <th>Word</th>\n",
       "      <th>POS</th>\n",
       "      <th>Tag</th>\n",
       "    </tr>\n",
       "  </thead>\n",
       "  <tbody>\n",
       "    <tr>\n",
       "      <th>0</th>\n",
       "      <td>Sentence: 1</td>\n",
       "      <td>Thousands</td>\n",
       "      <td>NNS</td>\n",
       "      <td>O</td>\n",
       "    </tr>\n",
       "    <tr>\n",
       "      <th>1</th>\n",
       "      <td>NaN</td>\n",
       "      <td>of</td>\n",
       "      <td>IN</td>\n",
       "      <td>O</td>\n",
       "    </tr>\n",
       "    <tr>\n",
       "      <th>2</th>\n",
       "      <td>NaN</td>\n",
       "      <td>demonstrators</td>\n",
       "      <td>NNS</td>\n",
       "      <td>O</td>\n",
       "    </tr>\n",
       "    <tr>\n",
       "      <th>3</th>\n",
       "      <td>NaN</td>\n",
       "      <td>have</td>\n",
       "      <td>VBP</td>\n",
       "      <td>O</td>\n",
       "    </tr>\n",
       "    <tr>\n",
       "      <th>4</th>\n",
       "      <td>NaN</td>\n",
       "      <td>marched</td>\n",
       "      <td>VBN</td>\n",
       "      <td>O</td>\n",
       "    </tr>\n",
       "  </tbody>\n",
       "</table>\n",
       "</div>"
      ],
      "text/plain": [
       "    Sentence #           Word  POS Tag\n",
       "0  Sentence: 1      Thousands  NNS   O\n",
       "1          NaN             of   IN   O\n",
       "2          NaN  demonstrators  NNS   O\n",
       "3          NaN           have  VBP   O\n",
       "4          NaN        marched  VBN   O"
      ]
     },
     "execution_count": 7,
     "metadata": {},
     "output_type": "execute_result"
    }
   ],
   "source": [
    "import pandas as pd\n",
    "data = pd.read_csv('ner_dataset 2.csv', encoding= 'unicode_escape')\n",
    "data.head()"
   ]
  },
  {
   "cell_type": "code",
   "execution_count": 8,
   "metadata": {},
   "outputs": [
    {
     "data": {
      "text/plain": [
       "(1048575, 4)"
      ]
     },
     "execution_count": 8,
     "metadata": {},
     "output_type": "execute_result"
    }
   ],
   "source": [
    "data.shape\n"
   ]
  },
  {
   "cell_type": "code",
   "execution_count": 9,
   "metadata": {},
   "outputs": [],
   "source": [
    "from itertools import chain\n",
    "def get_dict_map(data, token_or_tag):\n",
    "    tok2idx = {}\n",
    "    idx2tok = {}\n",
    "    \n",
    "    if token_or_tag == 'token':\n",
    "        vocab = list(set(data['Word'].to_list()))\n",
    "    else:\n",
    "        vocab = list(set(data['Tag'].to_list()))\n",
    "    \n",
    "    idx2tok = {idx:tok for  idx, tok in enumerate(vocab)}\n",
    "    tok2idx = {tok:idx for  idx, tok in enumerate(vocab)}\n",
    "    return tok2idx, idx2tok\n",
    "\n",
    "\n",
    "token2idx, idx2token = get_dict_map(data, 'token')\n",
    "tag2idx, idx2tag = get_dict_map(data, 'tag')"
   ]
  },
  {
   "cell_type": "code",
   "execution_count": null,
   "metadata": {},
   "outputs": [],
   "source": []
  }
 ],
 "metadata": {
  "kernelspec": {
   "display_name": "Python 3",
   "language": "python",
   "name": "python3"
  },
  "language_info": {
   "codemirror_mode": {
    "name": "ipython",
    "version": 3
   },
   "file_extension": ".py",
   "mimetype": "text/x-python",
   "name": "python",
   "nbconvert_exporter": "python",
   "pygments_lexer": "ipython3",
   "version": "3.6.4"
  }
 },
 "nbformat": 4,
 "nbformat_minor": 4
}
