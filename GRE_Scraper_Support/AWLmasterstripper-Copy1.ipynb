{
 "cells": [
  {
   "cell_type": "code",
   "execution_count": 1,
   "metadata": {},
   "outputs": [
    {
     "name": "stdout",
     "output_type": "stream",
     "text": [
      "['analysis', 'approach', 'area', 'assessment', 'assume', 'authority', 'available', 'benefit', 'concept', 'consistent', 'constitutional', 'context', 'contract', 'create', 'data', 'definition', 'derived', 'distribution', 'economic', 'environment', 'established', 'estimate', 'evidence', 'export', 'factors', 'financial', 'formula', 'function', 'identified', 'income', 'indicate', 'individual', 'interpretation', 'involved', 'issues', 'labour', 'legal', 'legislation', 'major', 'method', 'occur', 'percent', 'period', 'policy', 'principle', 'procedure', 'process', 'required', 'research', 'response', 'role', 'section', 'sector', 'significant', 'similar', 'source', 'specific', 'structure', 'theory', 'variables', 'achieve', 'acquisition', 'administration', 'affect', 'appropriate', 'aspects', 'assistance', 'categories', 'chapter', 'commission', 'community', 'complex', 'computer', 'conclusion', 'conduct', 'consequences', 'construction', 'consumer', 'credit', 'cultural', 'design', 'distinction', 'elements', 'equation', 'evaluation', 'features', 'final', 'focus', 'impact', 'injury', 'institute', 'investment', 'items', 'journal', 'maintenance', 'normal', 'obtained', 'participation', 'perceived', 'positive', 'potential', 'previous', 'primary', 'purchase', 'range', 'region', 'regulations', 'relevant', 'resident', 'resources', 'restricted', 'security', 'sought', 'select', 'site', 'strategies', 'survey', 'text', 'traditional', 'transfer', 'alternative', 'circumstances', 'comments', 'compensation', 'components', 'consent', 'considerable', 'constant', 'constraints', 'contribution', 'convention', 'coordination', 'core', 'corporate', 'corresponding', 'criteria', 'deduction', 'demonstrate', 'document', 'dominant', 'emphasis', 'ensure', 'excluded', 'framework', 'funds', 'illustrated', 'immigration', 'implies', 'initial', 'instance', 'interaction', 'justification', 'layer', 'link', 'location', 'maximum', 'minorities', 'negative', 'outcomes', 'partnership', 'philosophy', 'physical', 'proportion', 'published', 'reaction', 'registered', 'reliance', 'removed', 'scheme', 'sequence', 'sex', 'shift', 'specified', 'sufficient', 'task', 'technical', 'techniques', 'technology', 'validity', 'volume', 'access', 'adequate', 'annual', 'apparent', 'approximated', 'attitudes', 'attributed', 'civil', 'code', 'commitment', 'communication', 'concentration', 'conference', 'contrast', 'cycle', 'debate', 'despite', 'dimensions', 'domestic', 'emerged', 'error', 'ethnic', 'goals', 'granted', 'hence', 'hypothesis', 'implementation', 'implications', 'imposed', 'integration', 'internal', 'investigation', 'job', 'label', 'mechanism', 'obvious', 'occupational', 'option', 'output', 'overall', 'parallel', 'parameters', 'phase', 'predicted', 'principal', 'prior', 'professional', 'project', 'promote', 'regime', 'resolution', 'retained', 'series', 'statistics', 'status', 'stress', 'subsequent', 'sum', 'summary', 'undertaken', 'academic', 'adjustment', 'alter', 'amendment', 'aware', 'capacity', 'challenge', 'clause', 'compounds', 'conflict', 'consultation', 'contact', 'decline', 'discretion', 'draft', 'enable', 'energy', 'enforcement', 'entities', 'equivalent', 'evolution', 'expansion', 'exposure', 'external', 'facilitate', 'fundamental', 'generated', 'generation', 'image', 'liberal', 'licence', 'logic', 'marginal', 'medical', 'mental', 'modified', 'monitoring', 'network', 'notion', 'objective', 'orientation', 'perspective', 'precise', 'prime', 'psychology', 'pursue', 'ratio', 'rejected', 'revenue', 'stability', 'styles', 'substitution', 'sustainable', 'symbolic', 'target', 'transition', 'trend', 'version', 'welfare', 'whereas', 'abstract', 'accurate', 'acknowledged', 'aggregate', 'allocation', 'assigned', 'attached', 'author', 'bond', 'brief', 'capable', 'cited', 'cooperative', 'discrimination', 'display', 'diversity', 'domain', 'edition', 'enhanced', 'estate', 'exceed', 'expert', 'explicit', 'federal', 'fees', 'flexibility', 'furthermore', 'gender', 'ignored', 'incentive', 'incidence', 'incorporated', 'index', 'inhibition', 'initiatives', 'input', 'instructions', 'intelligence', 'interval', 'lecture', 'migration', 'minimum', 'ministry', 'motivation', 'neutral', 'nevertheless', 'overseas', 'preceding', 'presumption', 'rational', 'recovery', 'revealed', 'scope', 'subsidiary', 'tapes', 'trace', 'transformation', 'transport', 'underlying', 'utility', 'adaptation', 'adults', 'advocate', 'aid', 'channel', 'chemical', 'classical', 'comprehensive', 'comprise', 'confirmed', 'contrary', 'converted', 'couple', 'decades', 'definite', 'deny', 'differentiation', 'disposal', 'dynamic', 'eliminate', 'empirical', 'equipment', 'extract', 'file', 'finite', 'foundation', 'global', 'grade', 'guarantee', 'hierarchical', 'identical', 'ideology', 'inferred', 'innovation', 'insert', 'intervention', 'isolated', 'media', 'mode', 'paradigm', 'phenomenon', 'priority', 'prohibited', 'publication', 'quotation', 'release', 'reverse', 'simulation', 'solely', 'somewhat', 'submitted', 'successive', 'survive', 'thesis', 'topic', 'transmission', 'ultimately', 'unique', 'visible', 'voluntary', 'abandon', 'accompanied', 'accumulation', 'ambiguous', 'appendix', 'appreciation', 'arbitrary', 'automatically', 'bias', 'chart', 'clarity', 'conformity', 'commodity', 'complement', 'contemporary', 'contradiction', 'crucial', 'currency', 'denote', 'detected', 'deviation', 'displacement', 'dramatic', 'eventually', 'exhibit', 'exploitation', 'fluctuations', 'guidelines', 'highlighted', 'implicit', 'induced', 'inevitably', 'infrastructure', 'inspection', 'intensity', 'manipulation', 'minimised', 'nuclear', 'offset', 'paragraph', 'plus', 'practitioners', 'predominantly', 'prospect', 'radical', 'random', 'reinforced', 'restore', 'revision', 'schedule', 'tension', 'termination', 'theme', 'thereby', 'uniform', 'vehicle', 'via', 'virtually', 'widespread', 'visual', 'accommodation', 'analogous', 'anticipated', 'assurance', 'attained', 'behalf', 'bulk', 'ceases', 'coherence', 'coincide', 'commenced', 'incompatible', 'concurrent', 'confined', 'controversy', 'conversely', 'device', 'devoted', 'diminished', 'distorted/distortion - (equal figures)', 'duration', 'erosion', 'ethical', 'format', 'founded', 'inherent', 'insights', 'integral', 'intermediate', 'manual', 'mature', 'mediation', 'medium', 'military', 'minimal', 'mutual', 'norms', 'overlap', 'passive', 'portion', 'preliminary', 'protocol', 'qualitative', 'refine', 'relaxed', 'restraints', 'revolution', 'rigid', 'route', 'scenario', 'sphere', 'subordinate', 'supplementary', 'suspended', 'team', 'temporary', 'trigger', 'unified', 'violation', 'vision']\n"
     ]
    }
   ],
   "source": [
    "import requests\n",
    "from bs4 import BeautifulSoup\n",
    "\n",
    "awl = []\n",
    "\n",
    "for i in range(1,10):\n",
    "    page = requests.get('https://www.wgtn.ac.nz/lals/resources/academicwordlist/most-frequent/sublist-'+str(i)+'-most-frequent-words')\n",
    "\n",
    "    soup = BeautifulSoup(page.content, 'html.parser')\n",
    "\n",
    "    html = list(soup.children)[3]\n",
    "\n",
    "    body = list(html.children)[3]\n",
    "\n",
    "    body = list(body.children)[25]\n",
    "\n",
    "    body = list(body.children)[9]\n",
    "\n",
    "    body = list(body.children)[7]\n",
    "\n",
    "    body = list(body.children)[1]\n",
    "\n",
    "    body = list(body.children)[6]\n",
    "\n",
    "    for i in list(body.children):\n",
    "        \n",
    "        awl.append(str(i)[4:-5])\n",
    "    \n",
    "print(awl)"
   ]
  },
  {
   "cell_type": "code",
   "execution_count": 4,
   "metadata": {},
   "outputs": [],
   "source": [
    "import pandas as pd\n",
    "\n",
    "df = pd.DataFrame(awl, columns = ['Words'])"
   ]
  },
  {
   "cell_type": "code",
   "execution_count": 5,
   "metadata": {},
   "outputs": [
    {
     "data": {
      "text/html": [
       "<div>\n",
       "<style scoped>\n",
       "    .dataframe tbody tr th:only-of-type {\n",
       "        vertical-align: middle;\n",
       "    }\n",
       "\n",
       "    .dataframe tbody tr th {\n",
       "        vertical-align: top;\n",
       "    }\n",
       "\n",
       "    .dataframe thead th {\n",
       "        text-align: right;\n",
       "    }\n",
       "</style>\n",
       "<table border=\"1\" class=\"dataframe\">\n",
       "  <thead>\n",
       "    <tr style=\"text-align: right;\">\n",
       "      <th></th>\n",
       "      <th>Words</th>\n",
       "    </tr>\n",
       "  </thead>\n",
       "  <tbody>\n",
       "    <tr>\n",
       "      <th>0</th>\n",
       "      <td>analysis</td>\n",
       "    </tr>\n",
       "    <tr>\n",
       "      <th>1</th>\n",
       "      <td>approach</td>\n",
       "    </tr>\n",
       "    <tr>\n",
       "      <th>2</th>\n",
       "      <td>area</td>\n",
       "    </tr>\n",
       "    <tr>\n",
       "      <th>3</th>\n",
       "      <td>assessment</td>\n",
       "    </tr>\n",
       "    <tr>\n",
       "      <th>4</th>\n",
       "      <td>assume</td>\n",
       "    </tr>\n",
       "  </tbody>\n",
       "</table>\n",
       "</div>"
      ],
      "text/plain": [
       "        Words\n",
       "0    analysis\n",
       "1    approach\n",
       "2        area\n",
       "3  assessment\n",
       "4      assume"
      ]
     },
     "execution_count": 5,
     "metadata": {},
     "output_type": "execute_result"
    }
   ],
   "source": [
    "df.head()"
   ]
  },
  {
   "cell_type": "code",
   "execution_count": 6,
   "metadata": {},
   "outputs": [],
   "source": [
    "df.to_csv('awl.csv')"
   ]
  },
  {
   "cell_type": "code",
   "execution_count": null,
   "metadata": {},
   "outputs": [],
   "source": []
  }
 ],
 "metadata": {
  "kernelspec": {
   "display_name": "Anaconda (base)",
   "language": "python",
   "name": "anaconda-base"
  },
  "language_info": {
   "codemirror_mode": {
    "name": "ipython",
    "version": 3
   },
   "file_extension": ".py",
   "mimetype": "text/x-python",
   "name": "python",
   "nbconvert_exporter": "python",
   "pygments_lexer": "ipython3",
   "version": "3.9.7"
  }
 },
 "nbformat": 4,
 "nbformat_minor": 4
}
