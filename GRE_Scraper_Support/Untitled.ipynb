{
 "cells": [
  {
   "cell_type": "code",
   "execution_count": 16,
   "metadata": {},
   "outputs": [
    {
     "name": "stdout",
     "output_type": "stream",
     "text": [
      "<class 'dict'>\n",
      "9\n"
     ]
    }
   ],
   "source": [
    "import requests, json\n",
    "\n",
    "word = 'ape'\n",
    "\n",
    "url = requests.get(\"https://www.dictionaryapi.com/api/v3/references/collegiate/json/\" + word + \"?key=e2100569-8c04-4b38-8070-f39ba7aed8aa\")\n",
    "\n",
    "text = url.text\n",
    "\n",
    "data = json.loads(text)\n",
    "print(type(data[0]))\n",
    "print(len(data[0]))"
   ]
  },
  {
   "cell_type": "code",
   "execution_count": 17,
   "metadata": {},
   "outputs": [
    {
     "name": "stdout",
     "output_type": "stream",
     "text": [
      "meta\n",
      "hom\n",
      "hwi\n",
      "fl\n",
      "def\n",
      "uros\n",
      "et\n",
      "date\n",
      "shortdef\n"
     ]
    }
   ],
   "source": [
    "for key in data[0]:\n",
    "    print(key)"
   ]
  },
  {
   "cell_type": "code",
   "execution_count": 18,
   "metadata": {},
   "outputs": [
    {
     "data": {
      "text/plain": [
       "['any of various large tailless semi-erect primates of Africa and southeastern Asia (such as the chimpanzee, gorilla, orangutan, or gibbon) —called also anthropoid, anthropoid ape',\n",
       " 'monkey; especially : one of the larger tailless or short-tailed Old World forms —not used technically',\n",
       " 'mimic']"
      ]
     },
     "execution_count": 18,
     "metadata": {},
     "output_type": "execute_result"
    }
   ],
   "source": [
    "data[0]['shortdef']"
   ]
  },
  {
   "cell_type": "code",
   "execution_count": 27,
   "metadata": {},
   "outputs": [],
   "source": [
    "senses = data[0]['def'][0]['sseq']"
   ]
  },
  {
   "cell_type": "code",
   "execution_count": 57,
   "metadata": {},
   "outputs": [
    {
     "data": {
      "text/plain": [
       "[['sense',\n",
       "  {'sn': '1 a',\n",
       "   'dt': [['text',\n",
       "     '{bc}any of various large tailless semi-erect primates of Africa and southeastern Asia (such as the chimpanzee, gorilla, orangutan, or gibbon) '],\n",
       "    ['ca',\n",
       "     {'intro': 'called also',\n",
       "      'cats': [{'cat': 'anthropoid'}, {'cat': 'anthropoid ape'}]}],\n",
       "    ['text', ' {dx}compare {dxt|great ape||}{/dx}']]}],\n",
       " ['sense',\n",
       "  {'sn': 'b',\n",
       "   'dt': [['text', '{bc}{sx|monkey||}']],\n",
       "   'sdsense': {'sd': 'especially',\n",
       "    'dt': [['text',\n",
       "      '{bc}one of the larger tailless or short-tailed Old World forms '],\n",
       "     ['uns', [[['text', 'not used technically']]]]]}}]]"
      ]
     },
     "execution_count": 57,
     "metadata": {},
     "output_type": "execute_result"
    }
   ],
   "source": [
    "senses[0]"
   ]
  },
  {
   "cell_type": "code",
   "execution_count": 54,
   "metadata": {},
   "outputs": [],
   "source": [
    "word_def = senses[0][0][1]\n",
    "\n",
    "def deccon(word_def):\n",
    "    sn = word_def['sn']\n",
    "    dt = word_def['dt']\n",
    "    print(sn)\n",
    "    for i in dt:\n",
    "        #print(i)\n",
    "        if i[0] == 'text':\n",
    "            if '{bc}' in i[1]:\n",
    "                print(i[1][4:])\n",
    "            else:\n",
    "                print('no')"
   ]
  },
  {
   "cell_type": "code",
   "execution_count": 55,
   "metadata": {},
   "outputs": [
    {
     "name": "stdout",
     "output_type": "stream",
     "text": [
      "1 a\n",
      "any of various large tailless semi-erect primates of Africa and southeastern Asia (such as the chimpanzee, gorilla, orangutan, or gibbon) \n",
      "no\n"
     ]
    }
   ],
   "source": [
    "deccon(word_def)"
   ]
  },
  {
   "cell_type": "code",
   "execution_count": 31,
   "metadata": {},
   "outputs": [
    {
     "data": {
      "text/plain": [
       "['sense',\n",
       " {'sn': 'b',\n",
       "  'dt': [['text', '{bc}{sx|monkey||}']],\n",
       "  'sdsense': {'sd': 'especially',\n",
       "   'dt': [['text',\n",
       "     '{bc}one of the larger tailless or short-tailed Old World forms '],\n",
       "    ['uns', [[['text', 'not used technically']]]]]}}]"
      ]
     },
     "execution_count": 31,
     "metadata": {},
     "output_type": "execute_result"
    }
   ],
   "source": [
    "senses[0][1]"
   ]
  },
  {
   "cell_type": "code",
   "execution_count": 32,
   "metadata": {},
   "outputs": [
    {
     "data": {
      "text/plain": [
       "2"
      ]
     },
     "execution_count": 32,
     "metadata": {},
     "output_type": "execute_result"
    }
   ],
   "source": [
    "len(senses[1])"
   ]
  },
  {
   "cell_type": "code",
   "execution_count": 33,
   "metadata": {},
   "outputs": [
    {
     "data": {
      "text/plain": [
       "[['sense', {'sn': '2 a', 'dt': [['text', '{bc}{sx|mimic||}']]}],\n",
       " ['sense', {'sn': 'b', 'dt': [['text', '{bc}a large uncouth person']]}]]"
      ]
     },
     "execution_count": 33,
     "metadata": {},
     "output_type": "execute_result"
    }
   ],
   "source": [
    "senses[1]"
   ]
  },
  {
   "cell_type": "code",
   "execution_count": null,
   "metadata": {},
   "outputs": [],
   "source": []
  }
 ],
 "metadata": {
  "kernelspec": {
   "display_name": "Python [conda env:MLB]",
   "language": "python",
   "name": "conda-env-MLB-py"
  },
  "language_info": {
   "codemirror_mode": {
    "name": "ipython",
    "version": 3
   },
   "file_extension": ".py",
   "mimetype": "text/x-python",
   "name": "python",
   "nbconvert_exporter": "python",
   "pygments_lexer": "ipython3",
   "version": "3.7.13"
  }
 },
 "nbformat": 4,
 "nbformat_minor": 2
}
