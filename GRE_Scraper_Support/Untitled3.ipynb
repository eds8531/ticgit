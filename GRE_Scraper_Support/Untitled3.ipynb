{
 "cells": [
  {
   "cell_type": "code",
   "execution_count": 1,
   "metadata": {},
   "outputs": [],
   "source": [
    "import requests\n",
    "from bs4 import BeautifulSoup as bs\n",
    "import pandas as pd\n",
    "import re\n",
    "import string"
   ]
  },
  {
   "cell_type": "code",
   "execution_count": 5,
   "metadata": {},
   "outputs": [
    {
     "name": "stderr",
     "output_type": "stream",
     "text": [
      "/opt/anaconda3/lib/python3.7/site-packages/urllib3/connectionpool.py:847: InsecureRequestWarning: Unverified HTTPS request is being made. Adding certificate verification is strongly advised. See: https://urllib3.readthedocs.io/en/latest/advanced-usage.html#ssl-warnings\n",
      "  InsecureRequestWarning)\n"
     ]
    },
    {
     "name": "stdout",
     "output_type": "stream",
     "text": [
      "pos: noun\n",
      "def: adjective,\n",
      "pos: noun\n",
      "def: without thought or regard; carefree; heedless: a blithe indifference to anyone's feelings.\n",
      "pos: noun\n",
      "def: joyous, merry, or happy in disposition; glad; cheerful: Everyone loved her for her blithe spirit.\n",
      "pos: noun\n",
      "def: a female given name.\n",
      "pos: noun\n",
      "def: very happy or cheerful\n",
      "pos: noun\n",
      "def: heedless; casual and indifferent\n"
     ]
    }
   ],
   "source": [
    "url = 'https://www.dictionary.com/browse/'\n",
    "word = 'blithe'\n",
    "\n",
    "results = requests.get(url + word, verify = False)\n",
    "src = results.content\n",
    "soup = bs(src, 'lxml')\n",
    "\n",
    "pos_list = ['noun', 'verb', 'adjective',  'pronoun', 'adverb', 'preposition', 'conjunction',  'interjection']\n",
    "breaks = ['Infor','Dispa', 'Slang']\n",
    "\n",
    "text = soup.select('.css-nnyc96,.luna-pos')\n",
    "\n",
    "adjs = []\n",
    "for tag in text:\n",
    "    if (tag.text.strip()[0] == tag.text.strip()[0].upper()) & (tag.text.strip()[0] != '('):\n",
    "        adjs.append(tag.text.strip())\n",
    "        \n",
    "count = True\n",
    "\n",
    "for tag in text:\n",
    "    \n",
    "    if tag.text.strip().split(' ')[0] in pos_list:\n",
    "        pos_now = tag.text.strip().split(' ')[0]\n",
    "        count = True\n",
    "    \n",
    "    elif tag_np not in adjs:\n",
    "        if count:\n",
    "            print('pos: ' + pos_now)\n",
    "            print('def: '+ tag.text.strip())\n",
    "    else:\n",
    "        if tag.text.strip()[:5] in breaks:\n",
    "            count = False\n",
    "            \n"
   ]
  },
  {
   "cell_type": "code",
   "execution_count": 12,
   "metadata": {},
   "outputs": [],
   "source": [
    "def no_pun(word):\n",
    "    for character in string.punctuation:\n",
    "        tag_np = word.replace(character, '')\n",
    "        return tag_np"
   ]
  },
  {
   "cell_type": "code",
   "execution_count": 13,
   "metadata": {},
   "outputs": [
    {
     "data": {
      "text/plain": [
       "'w((o,r<d'"
      ]
     },
     "execution_count": 13,
     "metadata": {},
     "output_type": "execute_result"
    }
   ],
   "source": [
    "no_pun('w((o,r<d')"
   ]
  },
  {
   "cell_type": "code",
   "execution_count": 14,
   "metadata": {},
   "outputs": [
    {
     "data": {
      "text/plain": [
       "'!\"#$%&\\'()*+,-./:;<=>?@[\\\\]^_`{|}~'"
      ]
     },
     "execution_count": 14,
     "metadata": {},
     "output_type": "execute_result"
    }
   ],
   "source": [
    "string.punctuation"
   ]
  },
  {
   "cell_type": "code",
   "execution_count": null,
   "metadata": {},
   "outputs": [],
   "source": []
  }
 ],
 "metadata": {
  "kernelspec": {
   "display_name": "Python 3",
   "language": "python",
   "name": "python3"
  },
  "language_info": {
   "codemirror_mode": {
    "name": "ipython",
    "version": 3
   },
   "file_extension": ".py",
   "mimetype": "text/x-python",
   "name": "python",
   "nbconvert_exporter": "python",
   "pygments_lexer": "ipython3",
   "version": "3.7.6"
  }
 },
 "nbformat": 4,
 "nbformat_minor": 4
}
