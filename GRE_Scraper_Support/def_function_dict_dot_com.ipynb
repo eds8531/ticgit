{
 "cells": [
  {
   "cell_type": "code",
   "execution_count": 97,
   "metadata": {},
   "outputs": [],
   "source": [
    "import requests\n",
    "from bs4 import BeautifulSoup as bs\n",
    "import pandas as pd\n",
    "import re"
   ]
  },
  {
   "cell_type": "code",
   "execution_count": 98,
   "metadata": {},
   "outputs": [
    {
     "name": "stderr",
     "output_type": "stream",
     "text": [
      "/anaconda3/lib/python3.6/site-packages/urllib3/connectionpool.py:858: InsecureRequestWarning: Unverified HTTPS request is being made. Adding certificate verification is strongly advised. See: https://urllib3.readthedocs.io/en/latest/advanced-usage.html#ssl-warnings\n",
      "  InsecureRequestWarning)\n"
     ]
    }
   ],
   "source": [
    "url = 'https://www.dictionary.com/browse/'\n",
    "word = 'disinterested'\n",
    "\n",
    "results = requests.get(url + word, verify = False)\n",
    "src = results.content\n",
    "soup = bs(src, 'lxml')"
   ]
  },
  {
   "cell_type": "code",
   "execution_count": 99,
   "metadata": {},
   "outputs": [],
   "source": [
    "l = soup.find('div', attrs = {'class': 'css-1o58fj8 e1hk9ate4'})"
   ]
  },
  {
   "cell_type": "code",
   "execution_count": 100,
   "metadata": {},
   "outputs": [
    {
     "name": "stdout",
     "output_type": "stream",
     "text": [
      "None\n"
     ]
    }
   ],
   "source": [
    "print(l)\n",
    "#base-pw > main > section > section > div:nth-child(2) > section.css-109x55k.e1hk9ate4 > div.css-10n3ydx.e1hk9ate0 > div.css-10ul8x.e1q3nk1v2 > span"
   ]
  },
  {
   "cell_type": "code",
   "execution_count": 101,
   "metadata": {},
   "outputs": [],
   "source": [
    "#'luna-pos'\n",
    "# 'one-click-content css-nnyc96 e1q3nk1v1'\n",
    "# <section class=\"css-109x55k e1hk9ate4\"><div class=\"css-69s207 e1hk9ate3\"><span class=\"css-1b1gas3 e1hk9ate2\"><span class=\"luna-pos\">adjective</span></span></div><div class=\"css-10n3ydx e1hk9ate0\"><div value=\"1\" class=\"css-10ul8x e1q3nk1v2\"><span class=\"one-click-content css-nnyc96 e1q3nk1v1\" data-term=\"influenced\" data-linkid=\"nn1ov4\">unbiased by personal interest or advantage; not influenced by selfish motives: <span class=\"luna-example italic\">a disinterested decision by the referee.</span></span></div><div value=\"2\" class=\"css-1o7vb91 e1q3nk1v2\"><span class=\"one-click-content css-nnyc96 e1q3nk1v1\">not <a href=\"/browse/interested\" class=\"luna-xref\" data-linkid=\"nn1ov4\">interested</a>; <a href=\"/browse/indifferent\" class=\"luna-xref\" data-linkid=\"nn1ov4\">indifferent</a>. </span></div></div></section>\n",
    "#<div class=\"css-1avshm7 e16867sm0\"><section class=\"entry-headword\" id=\"top-definitions-section\"><div class=\"css-1t9sqkg e1wg9v5m1\"><button data-ci-target=\"serp_tooltip\" data-word-complexity-btn-screensize=\"small\" aria-label=\"Middle School Level.\" class=\"css-1i9rgtx e1d9ace80\"><span data-testid=\"word-complexity-badge\" class=\"css-1i1f9xm e1d9ace81\"><span font-weight=\"bold\" font-size=\"14px\" color=\"#1A1A1A\" class=\"css-irpbha e7pf46o0\"><span role=\"img\" aria-label=\"yellow notebook\">📙</span> <!-- -->Middle School Level</span></span></button><div class=\"css-bjn8wh e2bl8oz3\"><div data-tooltip-screensize=\"small\" data-tooltip-isopen=\"false\" role=\"tooltip\" aria-label=\"This shows grade level based on the word's complexity.\" class=\"css-15cuosf e2bl8oz1\"><div class=\"css-4u7gd9 e2bl8oz2\"><div class=\"css-1rigp50 e7pf46o0\">This shows grade level based on the word's complexity.</div><div class=\"css-p6a5vj e2bl8oz0\"></div></div></div></div></div><div class=\"css-1gvu524 e1wg9v5m7\"><div class=\"css-jv03sw e1wg9v5m6\"><h1 data-first-headword=\"true\" class=\"css-1sprl0b e1wg9v5m5\">disinterested</h1></div><div class=\"css-ev43ai ea1n8qa0\"><div><div class=\"pron-spell-ipa-container show-spell css-vo1uf3 evh0tcl3\"><div class=\"pron-spell-container css-eivff4 evh0tcl2\"><span class=\"pron-spell-content css-7iphl0 evh0tcl1\">[ dis-<span class=\"bold\">in</span>-t<span class=\"italic\">uh</span>-res-tid, -tri-stid  ]</span><button class=\"pron-ipa-button css-1keekaj evh0tcl0\" data-ci-target=\"ipaSpelled\">SHOW IPA</button></div><div class=\"pron-ipa-container css-eivff4 evh0tcl2\"><span class=\"pron-ipa-content css-7iphl0 evh0tcl1\">/ dɪsˈɪn təˌrɛs tɪd, -trɪ stɪd  /</span><button class=\"pron-spell-button css-1keekaj evh0tcl0\">PHONETIC RESPELLING</button></div></div></div><div data-slug=\"disinterested\" data-headword-buttons-container=\"true\" class=\"css-x8ezj7 e15jzgbm5\"><div class=\"audio-wrapper\"><button aria-label=\"pronunciation button\" data-ci-target=\"audio\" class=\"css-z3zatq e15jzgbm4\"><span font-size=\"33px\" class=\"css-5e54wk e15jzgbm1\"></span></button><audio preload=\"none\"><source src=\"https://static.sfdict.com/audio/lunawav/D03/D0370400.ogg\" type=\"audio/ogg\"><source src=\"https://static.sfdict.com/audio/D03/D0370400.mp3\" type=\"audio/mpeg\"></audio></div><div class=\"css-bjn8wh e15jzgbm0\"><button aria-label=\"save word\" data-outlined-star-button=\"true\" class=\"css-1jjtf5b e15jzgbm3\" style=\"display: initial;\"><div class=\"css-1vr7vmn e15jzgbm2\"><span font-size=\"32px\" class=\"css-1xq8258 e15jzgbm1\"></span><span font-size=\"24px\" class=\"dropdown-arrow-icon css-jfavdo e15jzgbm1\" data-save-word-down-arrow=\"true\"></span></div></button><button aria-label=\"save or delete word\" style=\"display:none\" data-filled-star-button=\"true\" class=\"css-1jjtf5b e15jzgbm3\"><div class=\"css-1vr7vmn e15jzgbm2\"><span font-size=\"32px\" class=\"css-1148b02 e15jzgbm1\"></span><span font-size=\"24px\" class=\"dropdown-arrow-icon css-jfavdo e15jzgbm1\" data-delete-word-down-arrow=\"true\"></span></div></button><div data-save-word-dropdown=\"true\" style=\"display:none\" class=\"css-rjia68 e1uc7ns34\"><ul class=\"css-1ftrdo3 e9d7gw33\"><li class=\"css-1bxjd3l e1uc7ns33\"><a data-create-new-word-list-anchor=\"true\" tabindex=\"0\" class=\"css-15kd0q e1uc7ns32\" href=\"https://www.dictionary.com/account/word-lists?action=create&amp;slug=disinterested&amp;displayForm=disinterested\">New Word List</a></li><div class=\"css-1wnzdoc e1uc7ns30\"><li data-save-word-option=\"true\" class=\"css-1ry8sb5 e1uc7ns33\"><button data-save-word-option-button=\"true\" class=\"css-10uzhzq e1uc7ns31\">Word List</button><span data-save-word-option-checkmark=\"true\" class=\"css-mcsf8a e1uc7ns35\"></span></li></div></ul></div></div><button data-linkid=\"0f6r4z\" data-ci-target=\"ua_save_word\" style=\"display: none;\"></button><button data-ci-target=\"ua_unsave_word\" style=\"display: none;\"></button><a data-linkid=\"x2c42t\" href=\"https://www.dictionary.com/sign-up?redirect=https://www.dictionary.com/browse/disinterested?action=save\" style=\"display: none;\"></a></div></div></div><div class=\"css-1eoy87d e1wg9v5m4\"><div class=\"css-1ff36h2 e1wg9v5m3\"><div class=\"css-1yvsuaf e15rdun50\"><div class=\"css-41gcop eejl9t61\"><span>See synonyms for: </span><span class=\"css-h12q9j eejl9t60\"><a href=\"https://www.thesaurus.com/browse/disinterested\" target=\"_blank\" rel=\"noopener\" data-linkid=\"oowy0r\" class=\"css-1mm57bl e12fnee32\">disinterested</a><span> / </span></span><span class=\"css-h12q9j eejl9t60\"><a href=\"https://www.thesaurus.com/browse/disinterestedly\" target=\"_blank\" rel=\"noopener\" data-linkid=\"tb9cmo\" class=\"css-1mm57bl e12fnee32\">disinterestedly</a><span> / </span></span><span class=\"css-h12q9j eejl9t60\"><a href=\"https://www.thesaurus.com/browse/disinterestedness\" target=\"_blank\" rel=\"noopener\" data-linkid=\"7e2el5\" class=\"css-1mm57bl e12fnee32\">disinterestedness</a></span><span> on Thesaurus.com</span></div></div></div><div class=\"css-51xwte e1wg9v5m2\"><div class=\"css-v1ygcs e1wg9v5m0\"><button data-ci-target=\"serp_tooltip\" data-word-complexity-btn-screensize=\"large\" aria-label=\"Middle School Level.\" class=\"css-1i9rgtx e1d9ace80\"><span data-testid=\"word-complexity-badge\" class=\"css-1i1f9xm e1d9ace81\"><span font-weight=\"bold\" font-size=\"14px\" color=\"#1A1A1A\" class=\"css-irpbha e7pf46o0\"><span role=\"img\" aria-label=\"yellow notebook\">📙</span> <!-- -->Middle School Level</span></span></button><div class=\"css-bjn8wh e2bl8oz3\"><div data-tooltip-screensize=\"large\" data-tooltip-isopen=\"false\" role=\"tooltip\" aria-label=\"This shows grade level based on the word's complexity.\" class=\"css-15cuosf e2bl8oz1\"><div class=\"css-4u7gd9 e2bl8oz2\"><div class=\"css-1rigp50 e7pf46o0\">This shows grade level based on the word's complexity.</div><div class=\"css-jzu8wx e2bl8oz0\"></div></div></div></div></div></div></div><hr class=\"headword-separator css-qxeaj1 etjs7ll0\"></section><section class=\"css-109x55k e1hk9ate4\"><div class=\"css-69s207 e1hk9ate3\"><span class=\"css-1b1gas3 e1hk9ate2\"><span class=\"luna-pos\">adjective</span></span></div><div class=\"css-10n3ydx e1hk9ate0\"><div value=\"1\" class=\"css-10ul8x e1q3nk1v2\"><span class=\"one-click-content css-nnyc96 e1q3nk1v1\" data-term=\"influenced\" data-linkid=\"nn1ov4\">unbiased by personal interest or advantage; not influenced by selfish motives: <span class=\"luna-example italic\">a disinterested decision by the referee.</span></span></div><div value=\"2\" class=\"css-1o7vb91 e1q3nk1v2\"><span class=\"one-click-content css-nnyc96 e1q3nk1v1\">not <a href=\"/browse/interested\" class=\"luna-xref\" data-linkid=\"nn1ov4\">interested</a>; <a href=\"/browse/indifferent\" class=\"luna-xref\" data-linkid=\"nn1ov4\">indifferent</a>. </span></div></div></section></div>\n",
    "text = soup.find_all(re.compile(r'(luna-pos|one-click-content css-nnyc96 e1q3nk1v1)'))\n",
    "df_tdlist = pd.DataFrame(columns = ['Words', 'Definitions'])\n",
    "#df_tdlist['Words'] = ['space']\n",
    "#df_tdlist['Definitions'] = ['space']\n",
    "word_list = ['ape', 'blithe', 'turncoat']"
   ]
  },
  {
   "cell_type": "code",
   "execution_count": 102,
   "metadata": {},
   "outputs": [
    {
     "name": "stdout",
     "output_type": "stream",
     "text": [
      "[]\n"
     ]
    }
   ],
   "source": [
    "print(text)"
   ]
  },
  {
   "cell_type": "code",
   "execution_count": 90,
   "metadata": {},
   "outputs": [
    {
     "name": "stdout",
     "output_type": "stream",
     "text": [
      "unbiased by personal interest or advantage; not influenced by selfish motives: a disinterested decision by the referee.\n",
      "not interested; indifferent.\n"
     ]
    }
   ],
   "source": [
    "for tag in text: \n",
    "    print(tag.text.strip())"
   ]
  },
  {
   "cell_type": "code",
   "execution_count": null,
   "metadata": {},
   "outputs": [],
   "source": []
  },
  {
   "cell_type": "code",
   "execution_count": null,
   "metadata": {},
   "outputs": [],
   "source": []
  },
  {
   "cell_type": "code",
   "execution_count": null,
   "metadata": {},
   "outputs": [],
   "source": []
  },
  {
   "cell_type": "code",
   "execution_count": null,
   "metadata": {},
   "outputs": [],
   "source": []
  },
  {
   "cell_type": "code",
   "execution_count": null,
   "metadata": {},
   "outputs": [],
   "source": []
  },
  {
   "cell_type": "code",
   "execution_count": null,
   "metadata": {},
   "outputs": [],
   "source": [
    "<span class=\"one-click-content css-nnyc96 e1q3nk1v1\" data-term=\"speed\" data-linkid=\"nn1ov4\">noting or pertaining to speed that is at least five times that of sound in the same medium.</span>"
   ]
  },
  {
   "cell_type": "code",
   "execution_count": 22,
   "metadata": {},
   "outputs": [],
   "source": [
    "def definitions(word_list):\n",
    "    url = 'https://www.dictionary.com/browse/'\n",
    "    \n",
    "    num = ''\n",
    "    let = ''\n",
    "    \n",
    "    numletprev = ''\n",
    "    \n",
    "    for word in word_list:\n",
    "        def_list = []\n",
    "        pos_list = []\n",
    "        results = requests.get(url + word)\n",
    "        src = results.content\n",
    "        soup = bs(src, 'lxml')\n",
    "        text = soup.find_all(class_= ['num', 'letter', 'dtText', 'sdsense', 'important-blue-link'])\n",
    "        \n",
    "        for tag in text:\n",
    "            if tag.text.strip() in '1234567890':\n",
    "                num = tag.text.strip()\n",
    "            elif tag.text.strip() in 'abcdefghij':\n",
    "                let = tag.text.strip() \n",
    "            elif tag.text.strip() in ['noun', 'verb', 'adverb', 'adjective']:\n",
    "                pos = tag.text.strip()\n",
    "                if pos in pos_list:\n",
    "                    break\n",
    "                pos_list.append(pos)\n",
    "            else:\n",
    "                if num+let == numletprev:\n",
    "                    num = ''\n",
    "                    let = '  '\n",
    "                defi = tag.text.strip()\n",
    "                if defi[:10] == 'especially':\n",
    "                    print(defi)\n",
    "                    esp = defi.split('\\n')\n",
    "                    def_list[-1] = def_list[-1] + ', ' + esp[0] +esp[1][1:]\n",
    "                    numletprev = num+let\n",
    "                    \n",
    "                if defi[:12] == 'specifically':\n",
    "                    print(defi)\n",
    "                    spec = defi.split('\\n')\n",
    "                    def_list[-1] = def_list[-1] + ', ' + spec[0] +spec[1][1:]\n",
    "                    numletprev = num+let\n",
    "                    numletprev = num+let\n",
    "                \n",
    "                else:\n",
    "                    def_list.append(str(pos)+ ': ' + defi[2:])\n",
    "                    #esp = defi.split('\\n')\n",
    "                    #def_list[-1] = def_list[-1] + ' ' + esp[0] +esp[1][1:] \n",
    "                    \n",
    "        df_word = pd.DataFrame(columns = ['Words', 'Definitions'])\n",
    "        df_word['Definitions'] = def_list\n",
    "        df_word['Words'] = [word]*len(def_list)\n",
    "        try:\n",
    "            #print(df_word)\n",
    "            df_tdlist = pd.concat([df_tdlist, df_word], axis = 0, ignore_index = True)\n",
    "        except:\n",
    "            df_tdlist = df_word\n",
    "    print(df_tdlist)\n",
    "    return df_tdlist\n",
    "   "
   ]
  },
  {
   "cell_type": "code",
   "execution_count": 26,
   "metadata": {},
   "outputs": [
    {
     "name": "stdout",
     "output_type": "stream",
     "text": [
      "especially\n",
      ": one of the larger tailless or short-tailed Old World forms \n",
      "\n",
      "—not used technically\n",
      "specifically\n",
      ": traitor\n",
      "       Words                                        Definitions\n",
      "0        ape  noun: any of various large tailless semi-erect...\n",
      "1        ape  noun: monkey, especially one of the larger tai...\n",
      "2        ape  noun: pecially\\n: one of the larger tailless o...\n",
      "3        ape  noun: one of the larger tailless or short-tail...\n",
      "4        ape                                        noun: mimic\n",
      "5        ape                       noun: a large uncouth person\n",
      "6        ape                                verb: ansitive verb\n",
      "7        ape  verb: to copy closely but often clumsily and i...\n",
      "8        ape                             adjective: crazy, wild\n",
      "9     blithe  adjective: lacking due thought or consideratio...\n",
      "10    blithe  adjective: of a happy lighthearted character o...\n",
      "11  turncoat  noun: one who switches to an opposing side or ...\n",
      "12  turncoat                                      noun: traitor\n"
     ]
    }
   ],
   "source": [
    "df_tdlist = definitions(word_list)"
   ]
  },
  {
   "cell_type": "code",
   "execution_count": 27,
   "metadata": {},
   "outputs": [
    {
     "data": {
      "text/plain": [
       "'noun: one who switches to an opposing side or party, specifically traitor'"
      ]
     },
     "execution_count": 27,
     "metadata": {},
     "output_type": "execute_result"
    }
   ],
   "source": [
    "df_tdlist.iat[11,1]"
   ]
  },
  {
   "cell_type": "markdown",
   "metadata": {},
   "source": [
    "Dealing with 'sepcifically' in definitions"
   ]
  },
  {
   "cell_type": "code",
   "execution_count": 55,
   "metadata": {},
   "outputs": [
    {
     "name": "stdout",
     "output_type": "stream",
     "text": [
      "['noun: one who switches to an opposing side or party specifically: traitor', 'noun: traitor']\n"
     ]
    }
   ],
   "source": [
    "url = 'https://www.merriam-webster.com/dictionary/'\n",
    "word = 'turncoat'\n",
    "results = requests.get(url + word)\n",
    "src = results.content\n",
    "soup = bs(src, 'lxml')\n",
    "text = soup.find_all(class_= ['num', 'letter', 'dtText', 'sdsense', 'important-blue-link'])\n",
    "\n",
    "pos_list = []\n",
    "def_list = []\n",
    "num = ''\n",
    "let = ''\n",
    "numletprev = ''\n",
    "\n",
    "for tag in text:\n",
    "    if tag.text.strip() in '1234567890':\n",
    "        num = tag.text.strip()\n",
    "    elif tag.text.strip() in 'abcdefghij':\n",
    "        let = tag.text.strip() \n",
    "    elif tag.text.strip() in ['noun', 'verb', 'adverb', 'adjective']:\n",
    "        pos = tag.text.strip()\n",
    "        if pos in pos_list:\n",
    "            break\n",
    "        pos_list.append(pos)\n",
    "    else:\n",
    "        if num+let == numletprev:\n",
    "            num = ''\n",
    "            let = '  '\n",
    "        defi = tag.text.strip()\n",
    "        if defi[:10] == 'especially':\n",
    "            esp = defi.split('\\n')\n",
    "            def_list[-1] = def_list[-1] + ' ' + esp[0]+ ':' +esp[1][1:]\n",
    "        if defi[:12] == 'specifically':\n",
    "            esp = defi.split('\\n')\n",
    "            def_list[-1] = def_list[-1] + ' ' + esp[0]+ \":\" +esp[1][1:]\n",
    "\n",
    "        else:\n",
    "            def_list.append(str(pos)+ ': ' + defi[2:])\n",
    "            numletprev = num+let\n",
    "            \n",
    "            \n",
    "            \n",
    "             \n",
    "print(def_list)"
   ]
  },
  {
   "cell_type": "code",
   "execution_count": 50,
   "metadata": {},
   "outputs": [
    {
     "name": "stdout",
     "output_type": "stream",
     "text": [
      "['1a', '', ': any of various large tailless semi-erect primates of Africa and southeastern Asia (such as the chimpanzee, gorilla, orangutan, or gibbon)', '— called also', 'anthropoid,  anthropoid ape ', ' — compare great ape']\n",
      "['2a', '', ': mimic']\n",
      "[': to copy closely but often clumsily and ineptly']\n",
      "[': crazy, wild', '', '—usually used in the phrase go ape']\n",
      "[': any of a group of tailless animals (as gorillas or chimpanzees) that are primates most closely related to humans']\n",
      "[': to imitate (someone) awkwardly', 'He apes the styles of his favorite actor.']\n",
      "['1', '', ': monkey', '', '', 'especially', ': one of the larger tailless or short-tailed Old World forms']\n",
      "['2', '', ': any of the large tailless semierect primates of Africa and southeastern Asia (as the chimpanzee, gorilla, orangutan, or gibbon)', '— called also', 'anthropoid,  anthropoid ape']\n"
     ]
    }
   ],
   "source": [
    "url = 'https://www.merriam-webster.com/dictionary/'\n",
    "word = 'ape'\n",
    "results = requests.get(url + word)\n",
    "src = results.content\n",
    "soup = bs(src, 'lxml')\n",
    "text = soup.find_all(class_= ['sb-0', 'important-blue-link'])\n",
    "\n",
    "pos_list = []\n",
    "def_list = []\n",
    "num = ''\n",
    "let = ''\n",
    "numletprev = ''\n",
    "\n",
    "for tag in text:\n",
    "    if tag.text.strip() in ['noun', 'verb', 'adjective', 'adverb', 'pronoun']:\n",
    "        pos = tag.text.strip()\n",
    "    elif tag.text.strip() in ['transitive verb']:\n",
    "        pass\n",
    "    else:\n",
    "        def_list.append(tag.text.strip())\n",
    "            \n",
    "for part in def_list:        \n",
    "    print(part.split('\\n'))       \n"
   ]
  },
  {
   "cell_type": "code",
   "execution_count": 64,
   "metadata": {},
   "outputs": [],
   "source": [
    "def definitions(word_list):\n",
    "    url = 'https://www.merriam-webster.com/dictionary/'\n",
    "    \n",
    "    num = ''\n",
    "    let = ''\n",
    "    \n",
    "    numletprev = ''\n",
    "    \n",
    "    for word in word_list:\n",
    "        def_list = []\n",
    "        pos_list = []\n",
    "        results = requests.get(url + word)\n",
    "        src = results.content\n",
    "        soup = bs(src, 'lxml')\n",
    "        text = soup.find_all(class_= ['num', 'letter', 'dtText', 'sdsense', 'important-blue-link'])\n",
    "        \n",
    "        for tag in text:\n",
    "            if tag.text.strip() in '1234567890':\n",
    "                num = tag.text.strip()\n",
    "            elif tag.text.strip() in 'abcdefghij':\n",
    "                let = tag.text.strip() \n",
    "            elif tag.text.strip() in ['noun', 'verb', 'adverb', 'adjective']:\n",
    "                pos = tag.text.strip()\n",
    "                if pos in pos_list:\n",
    "                    break\n",
    "                pos_list.append(pos)\n",
    "            else:\n",
    "                if num+let == numletprev:\n",
    "                    num = ''\n",
    "                    let = '  '\n",
    "                defi = tag.text.strip()\n",
    "                if defi[:10] == 'especially':\n",
    "                    esp = defi.split('\\n')\n",
    "                    print(esp)\n",
    "                    def_list[-1] = def_list[-1] + ' ' + esp[0]+ ':' +esp[1][1:]\n",
    "                elif defi[:12] == 'specifically':\n",
    "                    esp = defi.split('\\n')\n",
    "                    print(esp)\n",
    "                    def_list[-1] = def_list[-1] + ' ' + esp[0]+ \":\" +esp[1][1:]\n",
    "\n",
    "                else:\n",
    "                    def_list.append(str(pos)+ ': ' + defi[2:])\n",
    "                    numletprev = num+let\n",
    "                    \n",
    "        df_word = pd.DataFrame(columns = ['Words', 'Definitions'])\n",
    "        df_word['Definitions'] = def_list\n",
    "        df_word['Words'] = [word]*len(def_list)\n",
    "        try:\n",
    "            #print(df_word)\n",
    "            df_tdlist = pd.concat([df_tdlist, df_word], axis = 0, ignore_index = True)\n",
    "        except:\n",
    "            df_tdlist = df_word\n",
    "    print(df_tdlist)\n",
    "    return df_tdlist.iat[11,1]\n",
    "    "
   ]
  },
  {
   "cell_type": "code",
   "execution_count": 65,
   "metadata": {},
   "outputs": [
    {
     "name": "stdout",
     "output_type": "stream",
     "text": [
      "['especially', ': one of the larger tailless or short-tailed Old World forms ', '', '—not used technically']\n",
      "['specifically', ': traitor']\n",
      "       Words                                        Definitions\n",
      "0        ape  noun: any of various large tailless semi-erect...\n",
      "1        ape  noun: monkey especially: one of the larger tai...\n",
      "2        ape  noun: one of the larger tailless or short-tail...\n",
      "3        ape                                        noun: mimic\n",
      "4        ape                       noun: a large uncouth person\n",
      "5        ape                                verb: ansitive verb\n",
      "6        ape  verb: to copy closely but often clumsily and i...\n",
      "7        ape                             adjective: crazy, wild\n",
      "8     blithe  adjective: lacking due thought or consideratio...\n",
      "9     blithe  adjective: of a happy lighthearted character o...\n",
      "10  turncoat  noun: one who switches to an opposing side or ...\n",
      "11  turncoat                                      noun: traitor\n"
     ]
    },
    {
     "data": {
      "text/plain": [
       "'noun: traitor'"
      ]
     },
     "execution_count": 65,
     "metadata": {},
     "output_type": "execute_result"
    }
   ],
   "source": [
    "definitions(word_list)"
   ]
  },
  {
   "cell_type": "code",
   "execution_count": 61,
   "metadata": {},
   "outputs": [
    {
     "ename": "IndexError",
     "evalue": "index 11 is out of bounds for axis 0 with size 0",
     "output_type": "error",
     "traceback": [
      "\u001b[0;31m---------------------------------------------------------------------------\u001b[0m",
      "\u001b[0;31mIndexError\u001b[0m                                Traceback (most recent call last)",
      "Input \u001b[0;32mIn [61]\u001b[0m, in \u001b[0;36m<cell line: 1>\u001b[0;34m()\u001b[0m\n\u001b[0;32m----> 1\u001b[0m \u001b[43mdf_tdlist\u001b[49m\u001b[38;5;241;43m.\u001b[39;49m\u001b[43miat\u001b[49m\u001b[43m[\u001b[49m\u001b[38;5;241;43m11\u001b[39;49m\u001b[43m,\u001b[49m\u001b[38;5;241;43m1\u001b[39;49m\u001b[43m]\u001b[49m\n",
      "File \u001b[0;32m~/opt/anaconda3/lib/python3.9/site-packages/pandas/core/indexing.py:2100\u001b[0m, in \u001b[0;36m_ScalarAccessIndexer.__getitem__\u001b[0;34m(self, key)\u001b[0m\n\u001b[1;32m   2097\u001b[0m         \u001b[38;5;28;01mraise\u001b[39;00m \u001b[38;5;167;01mValueError\u001b[39;00m(\u001b[38;5;124m\"\u001b[39m\u001b[38;5;124mInvalid call for scalar access (getting)!\u001b[39m\u001b[38;5;124m\"\u001b[39m)\n\u001b[1;32m   2099\u001b[0m key \u001b[38;5;241m=\u001b[39m \u001b[38;5;28mself\u001b[39m\u001b[38;5;241m.\u001b[39m_convert_key(key)\n\u001b[0;32m-> 2100\u001b[0m \u001b[38;5;28;01mreturn\u001b[39;00m \u001b[38;5;28;43mself\u001b[39;49m\u001b[38;5;241;43m.\u001b[39;49m\u001b[43mobj\u001b[49m\u001b[38;5;241;43m.\u001b[39;49m\u001b[43m_get_value\u001b[49m\u001b[43m(\u001b[49m\u001b[38;5;241;43m*\u001b[39;49m\u001b[43mkey\u001b[49m\u001b[43m,\u001b[49m\u001b[43m \u001b[49m\u001b[43mtakeable\u001b[49m\u001b[38;5;241;43m=\u001b[39;49m\u001b[38;5;28;43mself\u001b[39;49m\u001b[38;5;241;43m.\u001b[39;49m\u001b[43m_takeable\u001b[49m\u001b[43m)\u001b[49m\n",
      "File \u001b[0;32m~/opt/anaconda3/lib/python3.9/site-packages/pandas/core/frame.py:3127\u001b[0m, in \u001b[0;36mDataFrame._get_value\u001b[0;34m(self, index, col, takeable)\u001b[0m\n\u001b[1;32m   3125\u001b[0m \u001b[38;5;28;01mif\u001b[39;00m takeable:\n\u001b[1;32m   3126\u001b[0m     series \u001b[38;5;241m=\u001b[39m \u001b[38;5;28mself\u001b[39m\u001b[38;5;241m.\u001b[39m_ixs(col, axis\u001b[38;5;241m=\u001b[39m\u001b[38;5;241m1\u001b[39m)\n\u001b[0;32m-> 3127\u001b[0m     \u001b[38;5;28;01mreturn\u001b[39;00m \u001b[43mseries\u001b[49m\u001b[38;5;241;43m.\u001b[39;49m\u001b[43m_values\u001b[49m\u001b[43m[\u001b[49m\u001b[43mindex\u001b[49m\u001b[43m]\u001b[49m\n\u001b[1;32m   3129\u001b[0m series \u001b[38;5;241m=\u001b[39m \u001b[38;5;28mself\u001b[39m\u001b[38;5;241m.\u001b[39m_get_item_cache(col)\n\u001b[1;32m   3130\u001b[0m engine \u001b[38;5;241m=\u001b[39m \u001b[38;5;28mself\u001b[39m\u001b[38;5;241m.\u001b[39mindex\u001b[38;5;241m.\u001b[39m_engine\n",
      "\u001b[0;31mIndexError\u001b[0m: index 11 is out of bounds for axis 0 with size 0"
     ]
    }
   ],
   "source": [
    "df_tdlist.iat[11,1]"
   ]
  },
  {
   "cell_type": "code",
   "execution_count": 7,
   "metadata": {},
   "outputs": [
    {
     "data": {
      "text/html": [
       "<div>\n",
       "<style scoped>\n",
       "    .dataframe tbody tr th:only-of-type {\n",
       "        vertical-align: middle;\n",
       "    }\n",
       "\n",
       "    .dataframe tbody tr th {\n",
       "        vertical-align: top;\n",
       "    }\n",
       "\n",
       "    .dataframe thead th {\n",
       "        text-align: right;\n",
       "    }\n",
       "</style>\n",
       "<table border=\"1\" class=\"dataframe\">\n",
       "  <thead>\n",
       "    <tr style=\"text-align: right;\">\n",
       "      <th></th>\n",
       "      <th>Sentence #</th>\n",
       "      <th>Word</th>\n",
       "      <th>POS</th>\n",
       "      <th>Tag</th>\n",
       "    </tr>\n",
       "  </thead>\n",
       "  <tbody>\n",
       "    <tr>\n",
       "      <th>0</th>\n",
       "      <td>Sentence: 1</td>\n",
       "      <td>Thousands</td>\n",
       "      <td>NNS</td>\n",
       "      <td>O</td>\n",
       "    </tr>\n",
       "    <tr>\n",
       "      <th>1</th>\n",
       "      <td>NaN</td>\n",
       "      <td>of</td>\n",
       "      <td>IN</td>\n",
       "      <td>O</td>\n",
       "    </tr>\n",
       "    <tr>\n",
       "      <th>2</th>\n",
       "      <td>NaN</td>\n",
       "      <td>demonstrators</td>\n",
       "      <td>NNS</td>\n",
       "      <td>O</td>\n",
       "    </tr>\n",
       "    <tr>\n",
       "      <th>3</th>\n",
       "      <td>NaN</td>\n",
       "      <td>have</td>\n",
       "      <td>VBP</td>\n",
       "      <td>O</td>\n",
       "    </tr>\n",
       "    <tr>\n",
       "      <th>4</th>\n",
       "      <td>NaN</td>\n",
       "      <td>marched</td>\n",
       "      <td>VBN</td>\n",
       "      <td>O</td>\n",
       "    </tr>\n",
       "  </tbody>\n",
       "</table>\n",
       "</div>"
      ],
      "text/plain": [
       "    Sentence #           Word  POS Tag\n",
       "0  Sentence: 1      Thousands  NNS   O\n",
       "1          NaN             of   IN   O\n",
       "2          NaN  demonstrators  NNS   O\n",
       "3          NaN           have  VBP   O\n",
       "4          NaN        marched  VBN   O"
      ]
     },
     "execution_count": 7,
     "metadata": {},
     "output_type": "execute_result"
    }
   ],
   "source": [
    "import pandas as pd\n",
    "data = pd.read_csv('ner_dataset 2.csv', encoding= 'unicode_escape')\n",
    "data.head()"
   ]
  },
  {
   "cell_type": "code",
   "execution_count": 8,
   "metadata": {},
   "outputs": [
    {
     "data": {
      "text/plain": [
       "(1048575, 4)"
      ]
     },
     "execution_count": 8,
     "metadata": {},
     "output_type": "execute_result"
    }
   ],
   "source": [
    "data.shape\n"
   ]
  },
  {
   "cell_type": "code",
   "execution_count": 9,
   "metadata": {},
   "outputs": [],
   "source": [
    "from itertools import chain\n",
    "def get_dict_map(data, token_or_tag):\n",
    "    tok2idx = {}\n",
    "    idx2tok = {}\n",
    "    \n",
    "    if token_or_tag == 'token':\n",
    "        vocab = list(set(data['Word'].to_list()))\n",
    "    else:\n",
    "        vocab = list(set(data['Tag'].to_list()))\n",
    "    \n",
    "    idx2tok = {idx:tok for  idx, tok in enumerate(vocab)}\n",
    "    tok2idx = {tok:idx for  idx, tok in enumerate(vocab)}\n",
    "    return tok2idx, idx2tok\n",
    "\n",
    "\n",
    "token2idx, idx2token = get_dict_map(data, 'token')\n",
    "tag2idx, idx2tag = get_dict_map(data, 'tag')"
   ]
  },
  {
   "cell_type": "code",
   "execution_count": null,
   "metadata": {},
   "outputs": [],
   "source": []
  }
 ],
 "metadata": {
  "kernelspec": {
   "display_name": "Python 3",
   "language": "python",
   "name": "python3"
  },
  "language_info": {
   "codemirror_mode": {
    "name": "ipython",
    "version": 3
   },
   "file_extension": ".py",
   "mimetype": "text/x-python",
   "name": "python",
   "nbconvert_exporter": "python",
   "pygments_lexer": "ipython3",
   "version": "3.6.4"
  }
 },
 "nbformat": 4,
 "nbformat_minor": 4
}
