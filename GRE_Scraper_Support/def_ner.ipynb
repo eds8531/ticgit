{
 "cells": [
  {
   "cell_type": "code",
   "execution_count": 43,
   "metadata": {},
   "outputs": [
    {
     "name": "stdout",
     "output_type": "stream",
     "text": [
      "Requirement already satisfied: nltk in /anaconda3/envs/MLB/lib/python3.7/site-packages (3.7)\n",
      "Requirement already satisfied: click in /anaconda3/envs/MLB/lib/python3.7/site-packages (from nltk) (8.1.2)\n",
      "Requirement already satisfied: joblib in /anaconda3/envs/MLB/lib/python3.7/site-packages (from nltk) (1.1.0)\n",
      "Requirement already satisfied: regex>=2021.8.3 in /anaconda3/envs/MLB/lib/python3.7/site-packages (from nltk) (2022.3.15)\n",
      "Requirement already satisfied: tqdm in /anaconda3/envs/MLB/lib/python3.7/site-packages (from nltk) (4.64.0)\n",
      "Requirement already satisfied: importlib-metadata in /anaconda3/envs/MLB/lib/python3.7/site-packages (from click->nltk) (4.11.3)\n",
      "Requirement already satisfied: zipp>=0.5 in /anaconda3/envs/MLB/lib/python3.7/site-packages (from importlib-metadata->click->nltk) (3.7.0)\n",
      "Requirement already satisfied: typing-extensions>=3.6.4 in /anaconda3/envs/MLB/lib/python3.7/site-packages (from importlib-metadata->click->nltk) (4.1.1)\n"
     ]
    },
    {
     "name": "stderr",
     "output_type": "stream",
     "text": [
      "[nltk_data] Downloading package averaged_perceptron_tagger to\n",
      "[nltk_data]     /Users/ericschlosser/nltk_data...\n",
      "[nltk_data]   Package averaged_perceptron_tagger is already up-to-\n",
      "[nltk_data]       date!\n"
     ]
    },
    {
     "data": {
      "text/plain": [
       "True"
      ]
     },
     "execution_count": 43,
     "metadata": {},
     "output_type": "execute_result"
    }
   ],
   "source": [
    "!pip install nltk\n",
    "import nltk\n",
    "nltk.download('averaged_perceptron_tagger')"
   ]
  },
  {
   "cell_type": "code",
   "execution_count": 44,
   "metadata": {},
   "outputs": [
    {
     "data": {
      "text/plain": [
       "[('John', 'NNP'),\n",
       " (\"'s\", 'POS'),\n",
       " ('big', 'JJ'),\n",
       " ('idea', 'NN'),\n",
       " ('is', 'VBZ'),\n",
       " (\"n't\", 'RB'),\n",
       " ('all', 'PDT'),\n",
       " ('that', 'DT'),\n",
       " ('bad', 'JJ'),\n",
       " ('.', '.')]"
      ]
     },
     "execution_count": 44,
     "metadata": {},
     "output_type": "execute_result"
    }
   ],
   "source": [
    "from nltk import pos_tag, word_tokenize\n",
    "pos_tag(word_tokenize(\"John's big idea isn't all that bad.\"))"
   ]
  },
  {
   "cell_type": "code",
   "execution_count": 45,
   "metadata": {},
   "outputs": [
    {
     "name": "stdout",
     "output_type": "stream",
     "text": [
      "Requirement already satisfied: newspaper3k in /anaconda3/envs/MLB/lib/python3.7/site-packages (0.2.8)\n",
      "Requirement already satisfied: lxml>=3.6.0 in /anaconda3/envs/MLB/lib/python3.7/site-packages (from newspaper3k) (4.8.0)\n",
      "Requirement already satisfied: beautifulsoup4>=4.4.1 in /anaconda3/envs/MLB/lib/python3.7/site-packages (from newspaper3k) (4.11.1)\n",
      "Requirement already satisfied: requests>=2.10.0 in /anaconda3/envs/MLB/lib/python3.7/site-packages (from newspaper3k) (2.27.1)\n",
      "Requirement already satisfied: nltk>=3.2.1 in /anaconda3/envs/MLB/lib/python3.7/site-packages (from newspaper3k) (3.7)\n",
      "Requirement already satisfied: python-dateutil>=2.5.3 in /anaconda3/envs/MLB/lib/python3.7/site-packages (from newspaper3k) (2.8.2)\n",
      "Requirement already satisfied: cssselect>=0.9.2 in /anaconda3/envs/MLB/lib/python3.7/site-packages (from newspaper3k) (1.1.0)\n",
      "Requirement already satisfied: jieba3k>=0.35.1 in /anaconda3/envs/MLB/lib/python3.7/site-packages (from newspaper3k) (0.35.1)\n",
      "Requirement already satisfied: tldextract>=2.0.1 in /anaconda3/envs/MLB/lib/python3.7/site-packages (from newspaper3k) (3.2.1)\n",
      "Requirement already satisfied: PyYAML>=3.11 in /anaconda3/envs/MLB/lib/python3.7/site-packages (from newspaper3k) (6.0)\n",
      "Requirement already satisfied: feedfinder2>=0.0.4 in /anaconda3/envs/MLB/lib/python3.7/site-packages (from newspaper3k) (0.0.4)\n",
      "Requirement already satisfied: feedparser>=5.2.1 in /anaconda3/envs/MLB/lib/python3.7/site-packages (from newspaper3k) (6.0.8)\n",
      "Requirement already satisfied: Pillow>=3.3.0 in /anaconda3/envs/MLB/lib/python3.7/site-packages (from newspaper3k) (9.0.1)\n",
      "Requirement already satisfied: tinysegmenter==0.3 in /anaconda3/envs/MLB/lib/python3.7/site-packages (from newspaper3k) (0.3)\n",
      "Requirement already satisfied: soupsieve>1.2 in /anaconda3/envs/MLB/lib/python3.7/site-packages (from beautifulsoup4>=4.4.1->newspaper3k) (2.3.1)\n",
      "Requirement already satisfied: six in /anaconda3/envs/MLB/lib/python3.7/site-packages (from feedfinder2>=0.0.4->newspaper3k) (1.16.0)\n",
      "Requirement already satisfied: sgmllib3k in /anaconda3/envs/MLB/lib/python3.7/site-packages (from feedparser>=5.2.1->newspaper3k) (1.0.0)\n",
      "Requirement already satisfied: regex>=2021.8.3 in /anaconda3/envs/MLB/lib/python3.7/site-packages (from nltk>=3.2.1->newspaper3k) (2022.3.15)\n",
      "Requirement already satisfied: joblib in /anaconda3/envs/MLB/lib/python3.7/site-packages (from nltk>=3.2.1->newspaper3k) (1.1.0)\n",
      "Requirement already satisfied: click in /anaconda3/envs/MLB/lib/python3.7/site-packages (from nltk>=3.2.1->newspaper3k) (8.1.2)\n",
      "Requirement already satisfied: tqdm in /anaconda3/envs/MLB/lib/python3.7/site-packages (from nltk>=3.2.1->newspaper3k) (4.64.0)\n",
      "Requirement already satisfied: charset-normalizer~=2.0.0 in /anaconda3/envs/MLB/lib/python3.7/site-packages (from requests>=2.10.0->newspaper3k) (2.0.12)\n",
      "Requirement already satisfied: idna<4,>=2.5 in /anaconda3/envs/MLB/lib/python3.7/site-packages (from requests>=2.10.0->newspaper3k) (3.3)\n",
      "Requirement already satisfied: urllib3<1.27,>=1.21.1 in /anaconda3/envs/MLB/lib/python3.7/site-packages (from requests>=2.10.0->newspaper3k) (1.26.9)\n",
      "Requirement already satisfied: certifi>=2017.4.17 in /anaconda3/envs/MLB/lib/python3.7/site-packages (from requests>=2.10.0->newspaper3k) (2021.10.8)\n",
      "Requirement already satisfied: filelock>=3.0.8 in /anaconda3/envs/MLB/lib/python3.7/site-packages (from tldextract>=2.0.1->newspaper3k) (3.6.0)\n",
      "Requirement already satisfied: requests-file>=1.4 in /anaconda3/envs/MLB/lib/python3.7/site-packages (from tldextract>=2.0.1->newspaper3k) (1.5.1)\n",
      "Requirement already satisfied: importlib-metadata in /anaconda3/envs/MLB/lib/python3.7/site-packages (from click->nltk>=3.2.1->newspaper3k) (4.11.3)\n",
      "Requirement already satisfied: typing-extensions>=3.6.4 in /anaconda3/envs/MLB/lib/python3.7/site-packages (from importlib-metadata->click->nltk>=3.2.1->newspaper3k) (4.1.1)\n",
      "Requirement already satisfied: zipp>=0.5 in /anaconda3/envs/MLB/lib/python3.7/site-packages (from importlib-metadata->click->nltk>=3.2.1->newspaper3k) (3.7.0)\n"
     ]
    }
   ],
   "source": [
    "!pip install newspaper3k \n"
   ]
  },
  {
   "cell_type": "code",
   "execution_count": 46,
   "metadata": {},
   "outputs": [
    {
     "name": "stderr",
     "output_type": "stream",
     "text": [
      "[nltk_data] Downloading package punkt to\n",
      "[nltk_data]     /Users/ericschlosser/nltk_data...\n",
      "[nltk_data]   Package punkt is already up-to-date!\n"
     ]
    }
   ],
   "source": [
    "import os, ssl\n",
    "if(not os.environ.get('PYTHONHTTPVERIFY', '') and getattr(ssl, '_create_unverified_context', None)):\n",
    "    ssl._create_default_https_context = ssl._create_unverified_context\n",
    "import nltk\n",
    "dler = nltk.downloader.Downloader()\n",
    "dler._update_index()\n",
    "nltk.download('punkt')\n",
    "dler._status_cache['panlex_lite'] = 'installed'\n",
    "from newspaper import Article\n",
    "import pandas as pd"
   ]
  },
  {
   "cell_type": "code",
   "execution_count": 47,
   "metadata": {},
   "outputs": [],
   "source": [
    "def scan_art(url):\n",
    "    article = Article(url, language = 'en')\n",
    "    article.download()\n",
    "    article.parse()\n",
    "    article.nlp()\n",
    "    artlist = article.text.split()\n",
    "    letters = \"abcdefghijklmnopqrstuvwxyz-'\"\n",
    "    artlist1 = []\n",
    "    for word in artlist:\n",
    "        for character in word:\n",
    "            if character.lower() not in letters:\n",
    "                word = word.replace(character, '')\n",
    "        artlist1.append(word)\n",
    "    df = pd.read_csv('/Users/ericschlosser/Desktop/TheHardWay/Wordle/bnc.csv')\n",
    "    # We're going to have to change the way diff level is input.\n",
    "    df1 = df[df['Difficulty'] >= 8]\n",
    "    #df_gre = pd.read_csv('/Users/ericschlosser/Desktop/TheHardWay/Wordle/bnc.csv')\n",
    "\n",
    "\n",
    "    word_list = []\n",
    "\n",
    "    for word in artlist1:\n",
    "        if word.upper() in df1['Branch'].values:\n",
    "            word_list.append(df1[df1['Branch'] == word.upper()]['Root'].values[0])\n",
    "\n",
    "    word_list = set(word_list)\n",
    "    word_list = list(word_list)\n",
    "    \n",
    "    return word_list\n",
    "    #df2 = pd.DataFrame(word_list, columns= ['Words'])\n",
    "    #df2['Words'] = pd.DataFrame(word_list)\n",
    "    #wlpath = os.path.join(current_app.root_path, 'wordlists', str(self.username) + '_article_list.pkl')\n",
    "    #df2.to_pickle(wlpath, compression = None)"
   ]
  },
  {
   "cell_type": "code",
   "execution_count": 48,
   "metadata": {},
   "outputs": [],
   "source": [
    "word_list = scan_art(\"https://www.newyorker.com/news/daily-comment/the-new-nuclear-reality\")"
   ]
  },
  {
   "cell_type": "code",
   "execution_count": 49,
   "metadata": {},
   "outputs": [
    {
     "data": {
      "text/plain": [
       "list"
      ]
     },
     "execution_count": 49,
     "metadata": {},
     "output_type": "execute_result"
    }
   ],
   "source": [
    "type(word_list)"
   ]
  },
  {
   "cell_type": "code",
   "execution_count": 50,
   "metadata": {},
   "outputs": [],
   "source": [
    "def ner(url):\n",
    "    article = Article(url, language = 'en')\n",
    "    article.download()\n",
    "    article.parse()\n",
    "    text = \"\"\n",
    "    paragraphs = article.text.split('\\n')\n",
    "    #article.nlp()\n",
    "    old_p = []\n",
    "    for paragraph in paragraphs:\n",
    "        new_p = pos_tag(word_tokenize(paragraph))\n",
    "        old_p = old_p +new_p\n",
    "    df_pos = pd.DataFrame(old_p, columns = ['Word', 'PoS'])\n",
    "    df_pos['Word'] = df_pos['Word'].str.upper()\n",
    "    return df_pos"
   ]
  },
  {
   "cell_type": "code",
   "execution_count": 51,
   "metadata": {},
   "outputs": [],
   "source": [
    "df_pos = ner(\"https://www.newyorker.com/news/daily-comment/the-new-nuclear-reality\")"
   ]
  },
  {
   "cell_type": "code",
   "execution_count": 52,
   "metadata": {},
   "outputs": [
    {
     "data": {
      "text/html": [
       "<div>\n",
       "<style scoped>\n",
       "    .dataframe tbody tr th:only-of-type {\n",
       "        vertical-align: middle;\n",
       "    }\n",
       "\n",
       "    .dataframe tbody tr th {\n",
       "        vertical-align: top;\n",
       "    }\n",
       "\n",
       "    .dataframe thead th {\n",
       "        text-align: right;\n",
       "    }\n",
       "</style>\n",
       "<table border=\"1\" class=\"dataframe\">\n",
       "  <thead>\n",
       "    <tr style=\"text-align: right;\">\n",
       "      <th></th>\n",
       "      <th>Word</th>\n",
       "      <th>PoS</th>\n",
       "    </tr>\n",
       "  </thead>\n",
       "  <tbody>\n",
       "    <tr>\n",
       "      <th>0</th>\n",
       "      <td>IN</td>\n",
       "      <td>IN</td>\n",
       "    </tr>\n",
       "    <tr>\n",
       "      <th>1</th>\n",
       "      <td>HIS</td>\n",
       "      <td>PRP$</td>\n",
       "    </tr>\n",
       "    <tr>\n",
       "      <th>2</th>\n",
       "      <td>NOBEL</td>\n",
       "      <td>NNP</td>\n",
       "    </tr>\n",
       "    <tr>\n",
       "      <th>3</th>\n",
       "      <td>PEACE</td>\n",
       "      <td>NNP</td>\n",
       "    </tr>\n",
       "    <tr>\n",
       "      <th>4</th>\n",
       "      <td>PRIZE</td>\n",
       "      <td>NNP</td>\n",
       "    </tr>\n",
       "  </tbody>\n",
       "</table>\n",
       "</div>"
      ],
      "text/plain": [
       "    Word   PoS\n",
       "0     IN    IN\n",
       "1    HIS  PRP$\n",
       "2  NOBEL   NNP\n",
       "3  PEACE   NNP\n",
       "4  PRIZE   NNP"
      ]
     },
     "execution_count": 52,
     "metadata": {},
     "output_type": "execute_result"
    }
   ],
   "source": [
    "df_pos.head()"
   ]
  },
  {
   "cell_type": "code",
   "execution_count": 54,
   "metadata": {},
   "outputs": [],
   "source": [
    "df = df_pos[df_pos['Word'].isin(word_list)]"
   ]
  },
  {
   "cell_type": "code",
   "execution_count": 57,
   "metadata": {},
   "outputs": [
    {
     "data": {
      "text/plain": [
       "(14, 2)"
      ]
     },
     "execution_count": 57,
     "metadata": {},
     "output_type": "execute_result"
    }
   ],
   "source": [
    "df.shape"
   ]
  },
  {
   "cell_type": "code",
   "execution_count": 61,
   "metadata": {},
   "outputs": [
    {
     "name": "stderr",
     "output_type": "stream",
     "text": [
      "[nltk_data] Downloading package omw-1.4 to\n",
      "[nltk_data]     /Users/ericschlosser/nltk_data...\n",
      "[nltk_data]   Unzipping corpora/omw-1.4.zip.\n"
     ]
    },
    {
     "data": {
      "text/plain": [
       "True"
      ]
     },
     "execution_count": 61,
     "metadata": {},
     "output_type": "execute_result"
    }
   ],
   "source": [
    "import nltk\n",
    "nltk.download('omw-1.4')"
   ]
  },
  {
   "cell_type": "code",
   "execution_count": 62,
   "metadata": {},
   "outputs": [],
   "source": [
    "\n",
    "import nltk\n",
    "from nltk.corpus import wordnet as wn"
   ]
  },
  {
   "cell_type": "code",
   "execution_count": 65,
   "metadata": {},
   "outputs": [
    {
     "data": {
      "text/html": [
       "<div>\n",
       "<style scoped>\n",
       "    .dataframe tbody tr th:only-of-type {\n",
       "        vertical-align: middle;\n",
       "    }\n",
       "\n",
       "    .dataframe tbody tr th {\n",
       "        vertical-align: top;\n",
       "    }\n",
       "\n",
       "    .dataframe thead th {\n",
       "        text-align: right;\n",
       "    }\n",
       "</style>\n",
       "<table border=\"1\" class=\"dataframe\">\n",
       "  <thead>\n",
       "    <tr style=\"text-align: right;\">\n",
       "      <th></th>\n",
       "      <th>Word</th>\n",
       "      <th>PoS</th>\n",
       "    </tr>\n",
       "  </thead>\n",
       "  <tbody>\n",
       "    <tr>\n",
       "      <th>132</th>\n",
       "      <td>DECIMATE</td>\n",
       "      <td>VB</td>\n",
       "    </tr>\n",
       "    <tr>\n",
       "      <th>160</th>\n",
       "      <td>LEXICON</td>\n",
       "      <td>NN</td>\n",
       "    </tr>\n",
       "    <tr>\n",
       "      <th>275</th>\n",
       "      <td>WEAPONRY</td>\n",
       "      <td>NN</td>\n",
       "    </tr>\n",
       "    <tr>\n",
       "      <th>414</th>\n",
       "      <td>HYPERSONIC</td>\n",
       "      <td>JJ</td>\n",
       "    </tr>\n",
       "    <tr>\n",
       "      <th>480</th>\n",
       "      <td>INTERCONTINENTAL</td>\n",
       "      <td>JJ</td>\n",
       "    </tr>\n",
       "    <tr>\n",
       "      <th>626</th>\n",
       "      <td>IMPERILLED</td>\n",
       "      <td>VBN</td>\n",
       "    </tr>\n",
       "    <tr>\n",
       "      <th>853</th>\n",
       "      <td>ARSENAL</td>\n",
       "      <td>JJ</td>\n",
       "    </tr>\n",
       "    <tr>\n",
       "      <th>965</th>\n",
       "      <td>PENTAGON</td>\n",
       "      <td>NNP</td>\n",
       "    </tr>\n",
       "    <tr>\n",
       "      <th>1043</th>\n",
       "      <td>ARSENAL</td>\n",
       "      <td>NN</td>\n",
       "    </tr>\n",
       "    <tr>\n",
       "      <th>1204</th>\n",
       "      <td>TENUOUS</td>\n",
       "      <td>JJ</td>\n",
       "    </tr>\n",
       "    <tr>\n",
       "      <th>1329</th>\n",
       "      <td>ARSENAL</td>\n",
       "      <td>NN</td>\n",
       "    </tr>\n",
       "    <tr>\n",
       "      <th>1344</th>\n",
       "      <td>STOCKPILE</td>\n",
       "      <td>NN</td>\n",
       "    </tr>\n",
       "    <tr>\n",
       "      <th>1397</th>\n",
       "      <td>BALLISTIC</td>\n",
       "      <td>JJ</td>\n",
       "    </tr>\n",
       "    <tr>\n",
       "      <th>1673</th>\n",
       "      <td>PENTAGON</td>\n",
       "      <td>NNP</td>\n",
       "    </tr>\n",
       "  </tbody>\n",
       "</table>\n",
       "</div>"
      ],
      "text/plain": [
       "                  Word  PoS\n",
       "132           DECIMATE   VB\n",
       "160            LEXICON   NN\n",
       "275           WEAPONRY   NN\n",
       "414         HYPERSONIC   JJ\n",
       "480   INTERCONTINENTAL   JJ\n",
       "626         IMPERILLED  VBN\n",
       "853            ARSENAL   JJ\n",
       "965           PENTAGON  NNP\n",
       "1043           ARSENAL   NN\n",
       "1204           TENUOUS   JJ\n",
       "1329           ARSENAL   NN\n",
       "1344         STOCKPILE   NN\n",
       "1397         BALLISTIC   JJ\n",
       "1673          PENTAGON  NNP"
      ]
     },
     "execution_count": 65,
     "metadata": {},
     "output_type": "execute_result"
    }
   ],
   "source": [
    "df"
   ]
  },
  {
   "cell_type": "code",
   "execution_count": 92,
   "metadata": {},
   "outputs": [
    {
     "name": "stdout",
     "output_type": "stream",
     "text": [
      "pose a threat to; present a danger to\n"
     ]
    }
   ],
   "source": [
    "syns = wn.synsets(\"imperil\", pos = 'v')\n",
    "for defi in syns:\n",
    "    print(defi.definition())"
   ]
  },
  {
   "cell_type": "code",
   "execution_count": 69,
   "metadata": {},
   "outputs": [
    {
     "name": "stdout",
     "output_type": "stream",
     "text": [
      "VB\n",
      "NN\n",
      "NN\n",
      "JJ\n",
      "JJ\n",
      "VBN\n",
      "JJ\n",
      "NNP\n",
      "JJ\n",
      "JJ\n",
      "JJ\n",
      "NN\n",
      "JJ\n",
      "NNP\n"
     ]
    }
   ],
   "source": [
    "for word in df['Word'].values:\n",
    "    print(df[df['Word'] == word].iat[0,1])"
   ]
  },
  {
   "cell_type": "code",
   "execution_count": 80,
   "metadata": {},
   "outputs": [],
   "source": [
    "def pos_def(df):\n",
    "    df_pos = pd.DataFrame(columns = ['Word', 'PoS', 'Def'])\n",
    "    for word in df['Word'].values:\n",
    "        def_list = []\n",
    "        pos_var = df[df['Word'] == word].iat[0,1]\n",
    "        if pos_var in ['VB', 'VBN']:\n",
    "            pos_var = 'v'\n",
    "        elif pos_var in ['JJ']:\n",
    "            pos_var = 'a'\n",
    "        elif pos_var in ['NN', 'NNP']:\n",
    "            pos_var = 'n'\n",
    "        syns = wn.synsets(word, pos = pos_var)\n",
    "        for defi in syns:\n",
    "            def_list.append(defi.definition())\n",
    "        for definition in def_list:\n",
    "            df_pos.loc[len(df_pos)] = [word, pos_var, definition]\n",
    "            \n",
    "    return df_pos"
   ]
  },
  {
   "cell_type": "code",
   "execution_count": 82,
   "metadata": {},
   "outputs": [
    {
     "data": {
      "text/html": [
       "<div>\n",
       "<style scoped>\n",
       "    .dataframe tbody tr th:only-of-type {\n",
       "        vertical-align: middle;\n",
       "    }\n",
       "\n",
       "    .dataframe tbody tr th {\n",
       "        vertical-align: top;\n",
       "    }\n",
       "\n",
       "    .dataframe thead th {\n",
       "        text-align: right;\n",
       "    }\n",
       "</style>\n",
       "<table border=\"1\" class=\"dataframe\">\n",
       "  <thead>\n",
       "    <tr style=\"text-align: right;\">\n",
       "      <th></th>\n",
       "      <th>Word</th>\n",
       "      <th>PoS</th>\n",
       "      <th>Def</th>\n",
       "    </tr>\n",
       "  </thead>\n",
       "  <tbody>\n",
       "    <tr>\n",
       "      <th>0</th>\n",
       "      <td>DECIMATE</td>\n",
       "      <td>v</td>\n",
       "      <td>kill one in every ten, as of mutineers in Roma...</td>\n",
       "    </tr>\n",
       "    <tr>\n",
       "      <th>1</th>\n",
       "      <td>DECIMATE</td>\n",
       "      <td>v</td>\n",
       "      <td>kill in large numbers</td>\n",
       "    </tr>\n",
       "    <tr>\n",
       "      <th>2</th>\n",
       "      <td>LEXICON</td>\n",
       "      <td>n</td>\n",
       "      <td>a language user's knowledge of words</td>\n",
       "    </tr>\n",
       "    <tr>\n",
       "      <th>3</th>\n",
       "      <td>LEXICON</td>\n",
       "      <td>n</td>\n",
       "      <td>a reference book containing an alphabetical li...</td>\n",
       "    </tr>\n",
       "    <tr>\n",
       "      <th>4</th>\n",
       "      <td>WEAPONRY</td>\n",
       "      <td>n</td>\n",
       "      <td>weapons considered collectively</td>\n",
       "    </tr>\n",
       "    <tr>\n",
       "      <th>5</th>\n",
       "      <td>INTERCONTINENTAL</td>\n",
       "      <td>a</td>\n",
       "      <td>extending or taking place between or among con...</td>\n",
       "    </tr>\n",
       "    <tr>\n",
       "      <th>6</th>\n",
       "      <td>PENTAGON</td>\n",
       "      <td>n</td>\n",
       "      <td>a government building with five sides that ser...</td>\n",
       "    </tr>\n",
       "    <tr>\n",
       "      <th>7</th>\n",
       "      <td>PENTAGON</td>\n",
       "      <td>n</td>\n",
       "      <td>the United States military establishment</td>\n",
       "    </tr>\n",
       "    <tr>\n",
       "      <th>8</th>\n",
       "      <td>PENTAGON</td>\n",
       "      <td>n</td>\n",
       "      <td>a five-sided polygon</td>\n",
       "    </tr>\n",
       "    <tr>\n",
       "      <th>9</th>\n",
       "      <td>TENUOUS</td>\n",
       "      <td>a</td>\n",
       "      <td>having thin consistency</td>\n",
       "    </tr>\n",
       "    <tr>\n",
       "      <th>10</th>\n",
       "      <td>TENUOUS</td>\n",
       "      <td>a</td>\n",
       "      <td>very thin in gauge or diameter</td>\n",
       "    </tr>\n",
       "    <tr>\n",
       "      <th>11</th>\n",
       "      <td>TENUOUS</td>\n",
       "      <td>a</td>\n",
       "      <td>lacking substance or significance; ; ; ; a fra...</td>\n",
       "    </tr>\n",
       "    <tr>\n",
       "      <th>12</th>\n",
       "      <td>STOCKPILE</td>\n",
       "      <td>n</td>\n",
       "      <td>something kept back or saved for future use or...</td>\n",
       "    </tr>\n",
       "    <tr>\n",
       "      <th>13</th>\n",
       "      <td>STOCKPILE</td>\n",
       "      <td>n</td>\n",
       "      <td>a storage pile accumulated for future use</td>\n",
       "    </tr>\n",
       "    <tr>\n",
       "      <th>14</th>\n",
       "      <td>BALLISTIC</td>\n",
       "      <td>a</td>\n",
       "      <td>relating to or characteristic of the motion of...</td>\n",
       "    </tr>\n",
       "    <tr>\n",
       "      <th>15</th>\n",
       "      <td>PENTAGON</td>\n",
       "      <td>n</td>\n",
       "      <td>a government building with five sides that ser...</td>\n",
       "    </tr>\n",
       "    <tr>\n",
       "      <th>16</th>\n",
       "      <td>PENTAGON</td>\n",
       "      <td>n</td>\n",
       "      <td>the United States military establishment</td>\n",
       "    </tr>\n",
       "    <tr>\n",
       "      <th>17</th>\n",
       "      <td>PENTAGON</td>\n",
       "      <td>n</td>\n",
       "      <td>a five-sided polygon</td>\n",
       "    </tr>\n",
       "  </tbody>\n",
       "</table>\n",
       "</div>"
      ],
      "text/plain": [
       "                Word PoS                                                Def\n",
       "0           DECIMATE   v  kill one in every ten, as of mutineers in Roma...\n",
       "1           DECIMATE   v                              kill in large numbers\n",
       "2            LEXICON   n               a language user's knowledge of words\n",
       "3            LEXICON   n  a reference book containing an alphabetical li...\n",
       "4           WEAPONRY   n                    weapons considered collectively\n",
       "5   INTERCONTINENTAL   a  extending or taking place between or among con...\n",
       "6           PENTAGON   n  a government building with five sides that ser...\n",
       "7           PENTAGON   n           the United States military establishment\n",
       "8           PENTAGON   n                               a five-sided polygon\n",
       "9            TENUOUS   a                            having thin consistency\n",
       "10           TENUOUS   a                     very thin in gauge or diameter\n",
       "11           TENUOUS   a  lacking substance or significance; ; ; ; a fra...\n",
       "12         STOCKPILE   n  something kept back or saved for future use or...\n",
       "13         STOCKPILE   n          a storage pile accumulated for future use\n",
       "14         BALLISTIC   a  relating to or characteristic of the motion of...\n",
       "15          PENTAGON   n  a government building with five sides that ser...\n",
       "16          PENTAGON   n           the United States military establishment\n",
       "17          PENTAGON   n                               a five-sided polygon"
      ]
     },
     "execution_count": 82,
     "metadata": {},
     "output_type": "execute_result"
    }
   ],
   "source": [
    "df_pos = pos_def(df)\n",
    "df_pos"
   ]
  },
  {
   "cell_type": "code",
   "execution_count": 83,
   "metadata": {},
   "outputs": [],
   "source": [
    "def pos_def(df):\n",
    "    df_pos = pd.DataFrame(columns = ['Word', 'PoS', 'Def'])\n",
    "    for word in df['Word'].values:\n",
    "        def_list = []\n",
    "        pos_var = df[df['Word'] == word].iat[0,1]\n",
    "        if pos_var in ['VB', 'VBN']:\n",
    "            pos_var = 'v'\n",
    "        elif pos_var in ['JJ']:\n",
    "            pos_var = 'a'\n",
    "        elif pos_var in ['NN', 'NNP']:\n",
    "            pos_var = 'n'\n",
    "        syns = wn.synsets(word, pos = pos_var)\n",
    "        definition = ''\n",
    "        for defi in syns:\n",
    "            definition = definition + defi.definition() + ' OR '\n",
    "        df_pos.loc[len(df_pos)] = [word, pos_var, definition[:-4]]\n",
    "            \n",
    "    return df_pos"
   ]
  },
  {
   "cell_type": "code",
   "execution_count": 84,
   "metadata": {},
   "outputs": [
    {
     "data": {
      "text/html": [
       "<div>\n",
       "<style scoped>\n",
       "    .dataframe tbody tr th:only-of-type {\n",
       "        vertical-align: middle;\n",
       "    }\n",
       "\n",
       "    .dataframe tbody tr th {\n",
       "        vertical-align: top;\n",
       "    }\n",
       "\n",
       "    .dataframe thead th {\n",
       "        text-align: right;\n",
       "    }\n",
       "</style>\n",
       "<table border=\"1\" class=\"dataframe\">\n",
       "  <thead>\n",
       "    <tr style=\"text-align: right;\">\n",
       "      <th></th>\n",
       "      <th>Word</th>\n",
       "      <th>PoS</th>\n",
       "      <th>Def</th>\n",
       "    </tr>\n",
       "  </thead>\n",
       "  <tbody>\n",
       "    <tr>\n",
       "      <th>0</th>\n",
       "      <td>DECIMATE</td>\n",
       "      <td>v</td>\n",
       "      <td>kill one in every ten, as of mutineers in Roma...</td>\n",
       "    </tr>\n",
       "    <tr>\n",
       "      <th>1</th>\n",
       "      <td>LEXICON</td>\n",
       "      <td>n</td>\n",
       "      <td>a language user's knowledge of words OR a refe...</td>\n",
       "    </tr>\n",
       "    <tr>\n",
       "      <th>2</th>\n",
       "      <td>WEAPONRY</td>\n",
       "      <td>n</td>\n",
       "      <td>weapons considered collectively</td>\n",
       "    </tr>\n",
       "    <tr>\n",
       "      <th>3</th>\n",
       "      <td>HYPERSONIC</td>\n",
       "      <td>a</td>\n",
       "      <td></td>\n",
       "    </tr>\n",
       "    <tr>\n",
       "      <th>4</th>\n",
       "      <td>INTERCONTINENTAL</td>\n",
       "      <td>a</td>\n",
       "      <td>extending or taking place between or among con...</td>\n",
       "    </tr>\n",
       "    <tr>\n",
       "      <th>5</th>\n",
       "      <td>IMPERILLED</td>\n",
       "      <td>v</td>\n",
       "      <td></td>\n",
       "    </tr>\n",
       "    <tr>\n",
       "      <th>6</th>\n",
       "      <td>ARSENAL</td>\n",
       "      <td>a</td>\n",
       "      <td></td>\n",
       "    </tr>\n",
       "    <tr>\n",
       "      <th>7</th>\n",
       "      <td>PENTAGON</td>\n",
       "      <td>n</td>\n",
       "      <td>a government building with five sides that ser...</td>\n",
       "    </tr>\n",
       "    <tr>\n",
       "      <th>8</th>\n",
       "      <td>ARSENAL</td>\n",
       "      <td>a</td>\n",
       "      <td></td>\n",
       "    </tr>\n",
       "    <tr>\n",
       "      <th>9</th>\n",
       "      <td>TENUOUS</td>\n",
       "      <td>a</td>\n",
       "      <td>having thin consistency OR very thin in gauge ...</td>\n",
       "    </tr>\n",
       "    <tr>\n",
       "      <th>10</th>\n",
       "      <td>ARSENAL</td>\n",
       "      <td>a</td>\n",
       "      <td></td>\n",
       "    </tr>\n",
       "    <tr>\n",
       "      <th>11</th>\n",
       "      <td>STOCKPILE</td>\n",
       "      <td>n</td>\n",
       "      <td>something kept back or saved for future use or...</td>\n",
       "    </tr>\n",
       "    <tr>\n",
       "      <th>12</th>\n",
       "      <td>BALLISTIC</td>\n",
       "      <td>a</td>\n",
       "      <td>relating to or characteristic of the motion of...</td>\n",
       "    </tr>\n",
       "    <tr>\n",
       "      <th>13</th>\n",
       "      <td>PENTAGON</td>\n",
       "      <td>n</td>\n",
       "      <td>a government building with five sides that ser...</td>\n",
       "    </tr>\n",
       "  </tbody>\n",
       "</table>\n",
       "</div>"
      ],
      "text/plain": [
       "                Word PoS                                                Def\n",
       "0           DECIMATE   v  kill one in every ten, as of mutineers in Roma...\n",
       "1            LEXICON   n  a language user's knowledge of words OR a refe...\n",
       "2           WEAPONRY   n                    weapons considered collectively\n",
       "3         HYPERSONIC   a                                                   \n",
       "4   INTERCONTINENTAL   a  extending or taking place between or among con...\n",
       "5         IMPERILLED   v                                                   \n",
       "6            ARSENAL   a                                                   \n",
       "7           PENTAGON   n  a government building with five sides that ser...\n",
       "8            ARSENAL   a                                                   \n",
       "9            TENUOUS   a  having thin consistency OR very thin in gauge ...\n",
       "10           ARSENAL   a                                                   \n",
       "11         STOCKPILE   n  something kept back or saved for future use or...\n",
       "12         BALLISTIC   a  relating to or characteristic of the motion of...\n",
       "13          PENTAGON   n  a government building with five sides that ser..."
      ]
     },
     "execution_count": 84,
     "metadata": {},
     "output_type": "execute_result"
    }
   ],
   "source": [
    "df_pos = pos_def(df)\n",
    "df_pos"
   ]
  },
  {
   "cell_type": "code",
   "execution_count": 86,
   "metadata": {},
   "outputs": [],
   "source": [
    "df_bnc = pd.read_csv('/Users/ericschlosser/Desktop/TheHardWay/Wordle/bnc.csv')"
   ]
  },
  {
   "cell_type": "code",
   "execution_count": 87,
   "metadata": {},
   "outputs": [
    {
     "data": {
      "text/html": [
       "<div>\n",
       "<style scoped>\n",
       "    .dataframe tbody tr th:only-of-type {\n",
       "        vertical-align: middle;\n",
       "    }\n",
       "\n",
       "    .dataframe tbody tr th {\n",
       "        vertical-align: top;\n",
       "    }\n",
       "\n",
       "    .dataframe thead th {\n",
       "        text-align: right;\n",
       "    }\n",
       "</style>\n",
       "<table border=\"1\" class=\"dataframe\">\n",
       "  <thead>\n",
       "    <tr style=\"text-align: right;\">\n",
       "      <th></th>\n",
       "      <th>Unnamed: 0</th>\n",
       "      <th>Root</th>\n",
       "      <th>Branch</th>\n",
       "      <th>Difficulty</th>\n",
       "    </tr>\n",
       "  </thead>\n",
       "  <tbody>\n",
       "    <tr>\n",
       "      <th>0</th>\n",
       "      <td>0</td>\n",
       "      <td>A</td>\n",
       "      <td>A</td>\n",
       "      <td>1</td>\n",
       "    </tr>\n",
       "    <tr>\n",
       "      <th>1</th>\n",
       "      <td>1</td>\n",
       "      <td>A</td>\n",
       "      <td>AN</td>\n",
       "      <td>1</td>\n",
       "    </tr>\n",
       "    <tr>\n",
       "      <th>2</th>\n",
       "      <td>2</td>\n",
       "      <td>ABLE</td>\n",
       "      <td>ABLE</td>\n",
       "      <td>1</td>\n",
       "    </tr>\n",
       "    <tr>\n",
       "      <th>3</th>\n",
       "      <td>3</td>\n",
       "      <td>ABLE</td>\n",
       "      <td>ABILITIES</td>\n",
       "      <td>1</td>\n",
       "    </tr>\n",
       "    <tr>\n",
       "      <th>4</th>\n",
       "      <td>4</td>\n",
       "      <td>ABLE</td>\n",
       "      <td>ABILITY</td>\n",
       "      <td>1</td>\n",
       "    </tr>\n",
       "  </tbody>\n",
       "</table>\n",
       "</div>"
      ],
      "text/plain": [
       "   Unnamed: 0  Root     Branch  Difficulty\n",
       "0           0     A          A           1\n",
       "1           1     A         AN           1\n",
       "2           2  ABLE       ABLE           1\n",
       "3           3  ABLE  ABILITIES           1\n",
       "4           4  ABLE    ABILITY           1"
      ]
     },
     "execution_count": 87,
     "metadata": {},
     "output_type": "execute_result"
    }
   ],
   "source": [
    "df_bnc.head()"
   ]
  },
  {
   "cell_type": "code",
   "execution_count": 88,
   "metadata": {},
   "outputs": [
    {
     "data": {
      "text/html": [
       "<div>\n",
       "<style scoped>\n",
       "    .dataframe tbody tr th:only-of-type {\n",
       "        vertical-align: middle;\n",
       "    }\n",
       "\n",
       "    .dataframe tbody tr th {\n",
       "        vertical-align: top;\n",
       "    }\n",
       "\n",
       "    .dataframe thead th {\n",
       "        text-align: right;\n",
       "    }\n",
       "</style>\n",
       "<table border=\"1\" class=\"dataframe\">\n",
       "  <thead>\n",
       "    <tr style=\"text-align: right;\">\n",
       "      <th></th>\n",
       "      <th>Unnamed: 0</th>\n",
       "      <th>Root</th>\n",
       "      <th>Branch</th>\n",
       "      <th>Difficulty</th>\n",
       "    </tr>\n",
       "  </thead>\n",
       "  <tbody>\n",
       "    <tr>\n",
       "      <th>65298</th>\n",
       "      <td>65298</td>\n",
       "      <td>HYPERSONIC</td>\n",
       "      <td>HYPERSONIC</td>\n",
       "      <td>19</td>\n",
       "    </tr>\n",
       "  </tbody>\n",
       "</table>\n",
       "</div>"
      ],
      "text/plain": [
       "       Unnamed: 0        Root      Branch  Difficulty\n",
       "65298       65298  HYPERSONIC  HYPERSONIC          19"
      ]
     },
     "execution_count": 88,
     "metadata": {},
     "output_type": "execute_result"
    }
   ],
   "source": [
    "df_bnc[df_bnc['Branch'] == 'HYPERSONIC']"
   ]
  },
  {
   "cell_type": "code",
   "execution_count": 89,
   "metadata": {},
   "outputs": [],
   "source": [
    "syns = wn.synsets(\"hypersonic\")\n",
    "for defi in syns:\n",
    "    print(defi.definition())"
   ]
  },
  {
   "cell_type": "code",
   "execution_count": 90,
   "metadata": {},
   "outputs": [
    {
     "name": "stdout",
     "output_type": "stream",
     "text": [
      "[]\n"
     ]
    }
   ],
   "source": [
    "print(syns)"
   ]
  },
  {
   "cell_type": "code",
   "execution_count": null,
   "metadata": {},
   "outputs": [],
   "source": []
  }
 ],
 "metadata": {
  "kernelspec": {
   "display_name": "Python [conda env:MLB]",
   "language": "python",
   "name": "conda-env-MLB-py"
  },
  "language_info": {
   "codemirror_mode": {
    "name": "ipython",
    "version": 3
   },
   "file_extension": ".py",
   "mimetype": "text/x-python",
   "name": "python",
   "nbconvert_exporter": "python",
   "pygments_lexer": "ipython3",
   "version": "3.7.13"
  }
 },
 "nbformat": 4,
 "nbformat_minor": 2
}
