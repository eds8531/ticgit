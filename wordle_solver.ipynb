{
 "cells": [
  {
   "cell_type": "code",
   "execution_count": 5,
   "metadata": {},
   "outputs": [],
   "source": [
    "import shelve\n",
    "import random\n",
    "import pandas as pd\n",
    "\n",
    "shelfFile = shelve.open('/Users/ericschlosser/Desktop/TheHardWay/Wordle/five_words')\n",
    "five_words = shelfFile['five_words']"
   ]
  },
  {
   "cell_type": "code",
   "execution_count": 6,
   "metadata": {},
   "outputs": [
    {
     "data": {
      "text/plain": [
       "4"
      ]
     },
     "execution_count": 6,
     "metadata": {},
     "output_type": "execute_result"
    }
   ],
   "source": [
    "five_words = [word for word in five_words if word[1] == 'e']\n",
    "five_words = [word for word in five_words if word[2] == 'r']\n",
    "five_words = [word for word in five_words if word[3] == 'r']\n",
    "five_words = [word for word in five_words if word[4] == 'y']\n",
    "len(five_words)"
   ]
  },
  {
   "cell_type": "code",
   "execution_count": 7,
   "metadata": {},
   "outputs": [
    {
     "data": {
      "text/plain": [
       "4"
      ]
     },
     "execution_count": 7,
     "metadata": {},
     "output_type": "execute_result"
    }
   ],
   "source": [
    "five_words = [word for word in five_words if word[4] != 'e']\n",
    "#five_words = [word for word in five_words if word[1] != 't']\n",
    "#five_words = [word for word in five_words if word[3] != 'e']\n",
    "#five_words = [word for word in five_words if word[3] != 'e']\n",
    "#five_words = [word for word in five_words if word[1] != 'r']\n",
    "#five_words = [word for word in five_words if word[2] != 'r']\n",
    "len(five_words)"
   ]
  },
  {
   "cell_type": "code",
   "execution_count": 8,
   "metadata": {},
   "outputs": [
    {
     "data": {
      "text/plain": [
       "1"
      ]
     },
     "execution_count": 8,
     "metadata": {},
     "output_type": "execute_result"
    }
   ],
   "source": [
    "grey = 'bickstompnudgwax'\n",
    "\n",
    "grey = list(grey)\n",
    "\n",
    "for i in grey:\n",
    "    five_words = [word for word in five_words if i not in word]\n",
    "len(five_words)"
   ]
  },
  {
   "cell_type": "code",
   "execution_count": 9,
   "metadata": {},
   "outputs": [
    {
     "data": {
      "text/plain": [
       "1"
      ]
     },
     "execution_count": 9,
     "metadata": {},
     "output_type": "execute_result"
    }
   ],
   "source": [
    "yellow = 'er'\n",
    "\n",
    "yellow = list(yellow)\n",
    "\n",
    "for i in yellow:\n",
    "    five_words = [word for word in five_words if i in word]\n",
    "len(five_words)"
   ]
  },
  {
   "cell_type": "code",
   "execution_count": 10,
   "metadata": {},
   "outputs": [
    {
     "data": {
      "text/plain": [
       "['ferry']"
      ]
     },
     "execution_count": 10,
     "metadata": {},
     "output_type": "execute_result"
    }
   ],
   "source": [
    "five_words"
   ]
  },
  {
   "cell_type": "code",
   "execution_count": 38,
   "metadata": {},
   "outputs": [],
   "source": [
    "grey = ''\n",
    "\n",
    "grey = list(dead)\n",
    "\n",
    "for i in dead:\n",
    "    five_words = [word for word in five_words if i not in word]\n"
   ]
  },
  {
   "cell_type": "code",
   "execution_count": 39,
   "metadata": {},
   "outputs": [],
   "source": [
    "live = ['r','e','s','t']\n",
    "\n",
    "for i in live:\n",
    "    five_words = [word for word in five_words if i in word]\n"
   ]
  },
  {
   "cell_type": "code",
   "execution_count": 88,
   "metadata": {},
   "outputs": [
    {
     "data": {
      "text/plain": [
       "['erase', 'serve', 'share', 'verse']"
      ]
     },
     "execution_count": 88,
     "metadata": {},
     "output_type": "execute_result"
    }
   ],
   "source": [
    "five_words\n"
   ]
  },
  {
   "cell_type": "code",
   "execution_count": null,
   "metadata": {},
   "outputs": [],
   "source": []
  }
 ],
 "metadata": {
  "kernelspec": {
   "display_name": "Python 3",
   "language": "python",
   "name": "python3"
  },
  "language_info": {
   "codemirror_mode": {
    "name": "ipython",
    "version": 3
   },
   "file_extension": ".py",
   "mimetype": "text/x-python",
   "name": "python",
   "nbconvert_exporter": "python",
   "pygments_lexer": "ipython3",
   "version": "3.7.6"
  }
 },
 "nbformat": 4,
 "nbformat_minor": 4
}
